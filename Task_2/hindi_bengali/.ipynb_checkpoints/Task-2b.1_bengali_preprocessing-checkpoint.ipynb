{
 "cells": [
  {
   "cell_type": "markdown",
   "metadata": {},
   "source": [
    "# Task 2: Sample Bengali dataset and do preprocessing"
   ]
  },
  {
   "cell_type": "code",
   "execution_count": 1,
   "metadata": {},
   "outputs": [],
   "source": [
    "# Imports\n",
    "import re\n",
    "import string\n",
    "import json\n",
    "from datetime import datetime\n",
    "from collections import defaultdict, Counter\n",
    "\n",
    "import numpy as np\n",
    "import pandas as pd\n",
    "import matplotlib.pyplot as plt\n",
    "from tqdm import tqdm\n",
    "\n",
    "import torch\n",
    "import torch.nn as nn\n",
    "from torch.nn import Module\n",
    "import torch.optim as optim\n",
    "import torch.nn.functional as F\n",
    "from torch.utils.data import Dataset, DataLoader\n",
    "from torch.nn.utils.rnn import pad_sequence, pack_padded_sequence, pad_packed_sequence\n",
    "\n",
    "from sklearn.model_selection import train_test_split\n",
    "from sklearn.metrics import f1_score\n",
    "\n",
    "from nltk.corpus import stopwords\n",
    "\n",
    "device = 'cpu'\n",
    "\n",
    "import random\n",
    "\n",
    "torch.manual_seed(123)\n",
    "torch.cuda.manual_seed(234)\n",
    "np.random.seed(345)\n",
    "random.seed(456)\n",
    "torch.manual_seed(567)\n",
    "torch.backends.cudnn.benchmark = False\n",
    "torch.backends.cudnn.deterministic = True"
   ]
  },
  {
   "cell_type": "markdown",
   "metadata": {},
   "source": [
    "# Sample Bengali dataset"
   ]
  },
  {
   "cell_type": "code",
   "execution_count": 2,
   "metadata": {},
   "outputs": [
    {
     "name": "stdout",
     "output_type": "stream",
     "text": [
      "Hindi - training data\n"
     ]
    },
    {
     "data": {
      "text/plain": [
       "HOF    2469\n",
       "NOT    2196\n",
       "Name: task_1, dtype: int64"
      ]
     },
     "metadata": {},
     "output_type": "display_data"
    },
    {
     "name": "stdout",
     "output_type": "stream",
     "text": [
      "\n",
      "Hindi - test data\n"
     ]
    },
    {
     "data": {
      "text/plain": [
       "NOT    713\n",
       "HOF    605\n",
       "Name: task_1, dtype: int64"
      ]
     },
     "metadata": {},
     "output_type": "display_data"
    }
   ],
   "source": [
    "# get the size and number of HOF, NOT sentences in hindi-dataset\n",
    "print('Hindi - training data')\n",
    "hindi_train_df = pd.read_csv('../../data/hindi_hatespeech.tsv', sep='\\t')\n",
    "display(hindi_train_df['task_1'].value_counts())\n",
    "\n",
    "print()\n",
    "\n",
    "print('Hindi - test data')\n",
    "hindi_test_df = pd.read_csv('../../data/hasoc2019_hi_test_gold_2919.tsv', sep='\\t')\n",
    "display(hindi_test_df['task_1'].value_counts())"
   ]
  },
  {
   "cell_type": "code",
   "execution_count": 3,
   "metadata": {},
   "outputs": [],
   "source": [
    "# Sample data from the Bengali dataset so that it has the same size and distribution as in Hindi dataset.\n",
    "# We also save and preprocess the remaining bengali data (excluding sample train and test), this can\n",
    "# be useful for Task 3.\n",
    "\n",
    "bengali_df = pd.read_csv('../../data/bengali_hatespeech.csv')\n",
    "\n",
    "# separate HATE and NOT-HATE observations\n",
    "bengali_hate_df = bengali_df[bengali_df['hate']==1]\n",
    "bengali_not_df = bengali_df[bengali_df['hate']==0]\n",
    "\n",
    "# sampling data for train/test/other datasets\n",
    "bengali_hate_sample_df, bengali_hate_other_df = train_test_split(bengali_hate_df, train_size=2469+605, random_state=1)\n",
    "bengali_hate_train_df, bengali_hate_test_df = train_test_split(bengali_hate_sample_df, train_size=2469, random_state=2)\n",
    "\n",
    "bengali_not_sample_df, bengali_not_other_df = train_test_split(bengali_not_df, train_size=2196+713, random_state=3)\n",
    "bengali_not_train_df, bengali_not_test_df = train_test_split(bengali_not_sample_df, train_size=2196, random_state=4)\n",
    "\n",
    "# form train data, test data, other-data\n",
    "bengali_train_df = pd.concat([bengali_hate_train_df, bengali_not_train_df]).sample(frac=1)\n",
    "bengali_test_df = pd.concat([bengali_hate_test_df, bengali_not_test_df]).sample(frac=1)\n",
    "bengali_other_df = pd.concat([bengali_hate_other_df, bengali_not_other_df]).sample(frac=1)"
   ]
  },
  {
   "cell_type": "code",
   "execution_count": 4,
   "metadata": {},
   "outputs": [
    {
     "name": "stdout",
     "output_type": "stream",
     "text": [
      "Bengali - sample training data\n"
     ]
    },
    {
     "data": {
      "text/plain": [
       "1    2469\n",
       "0    2196\n",
       "Name: hate, dtype: int64"
      ]
     },
     "metadata": {},
     "output_type": "display_data"
    },
    {
     "name": "stdout",
     "output_type": "stream",
     "text": [
      "\n",
      "Bengali - sample test data\n"
     ]
    },
    {
     "data": {
      "text/plain": [
       "0    713\n",
       "1    605\n",
       "Name: hate, dtype: int64"
      ]
     },
     "metadata": {},
     "output_type": "display_data"
    },
    {
     "name": "stdout",
     "output_type": "stream",
     "text": [
      "\n",
      "Bengali - remaining data\n"
     ]
    },
    {
     "data": {
      "text/plain": [
       "0    17091\n",
       "1     6926\n",
       "Name: hate, dtype: int64"
      ]
     },
     "metadata": {},
     "output_type": "display_data"
    }
   ],
   "source": [
    "# show stats of sample Bengali datasets\n",
    "print('Bengali - sample training data')\n",
    "display(bengali_train_df['hate'].value_counts())\n",
    "\n",
    "print()\n",
    "\n",
    "print('Bengali - sample test data')\n",
    "display(bengali_test_df['hate'].value_counts())\n",
    "\n",
    "print()\n",
    "\n",
    "print('Bengali - remaining data')\n",
    "display(bengali_other_df['hate'].value_counts())"
   ]
  },
  {
   "cell_type": "code",
   "execution_count": 5,
   "metadata": {},
   "outputs": [],
   "source": [
    "# save sample Bengali datasets\n",
    "bengali_train_df.to_csv('save/bengali_hatespeech_sample_train.csv', index=False)\n",
    "bengali_test_df.to_csv('save/bengali_hatespeech_sample_test.csv', index=False)\n",
    "bengali_other_df.to_csv('save/bengali_hatespeech_other.csv', index=False)"
   ]
  },
  {
   "cell_type": "markdown",
   "metadata": {},
   "source": [
    "# Preprocessing"
   ]
  },
  {
   "cell_type": "code",
   "execution_count": 6,
   "metadata": {},
   "outputs": [],
   "source": [
    "train_sentences = bengali_train_df['sentence']\n",
    "test_sentences = bengali_test_df['sentence']\n",
    "other_sentences = bengali_other_df['sentence']"
   ]
  },
  {
   "cell_type": "code",
   "execution_count": 7,
   "metadata": {},
   "outputs": [],
   "source": [
    "def preprocess_texts(sentences):\n",
    "    # remove user taggings\n",
    "    user_tag_pattern = re.compile(r'\\@\\w*')\n",
    "    sentences = [re.sub(user_tag_pattern, ' ', sentence) for sentence in sentences]\n",
    "    # lower case\n",
    "    sentences = [sentence.lower() for sentence in sentences]\n",
    "    # remove punctuations\n",
    "    punctuation = string.punctuation[:2] + string.punctuation[3:]\n",
    "    translator = str.maketrans(punctuation, ' '*len(punctuation))\n",
    "    def remove_punc(s):\n",
    "        s = s.translate(translator)\n",
    "        return s\n",
    "\n",
    "    sentences = [remove_punc(sentence) for sentence in sentences]\n",
    "    \n",
    "    # remove stopwords BENGALI\n",
    "    # source: https://www.ranks.nl/stopwords/bengali\n",
    "    stopwords = ['অবশ্য', 'অনেক', 'অনেকে', 'অনেকেই', 'অন্তত', 'অথবা', 'অথচ', 'অর্থাত', 'অন্য', 'আজ', 'আছে', 'আপনার', \n",
    "                 'আপনি', 'আবার', 'আমরা', 'আমাকে', 'আমাদের', 'আমার', 'আমি', 'আরও', 'আর', 'আগে', 'আগেই', 'আই', \n",
    "                 'অতএব', 'আগামী', 'অবধি', 'অনুযায়ী', 'আদ্যভাগে', 'এই', 'একই', 'একে', 'একটি', 'এখন', 'এখনও', 'এখানে', \n",
    "                 'এখানেই', 'এটি', 'এটা', 'এটাই', 'এতটাই', 'এবং', 'একবার', 'এবার', 'এদের', 'এঁদের', 'এমন', 'এমনকী', 'এল', \n",
    "                 'এর', 'এরা', 'এঁরা', 'এস', 'এত', 'এতে', 'এসে', 'একে', 'এ', 'ঐ', ' ই', 'ইহা', 'ইত্যাদি', 'উনি', 'উপর', \n",
    "                 'উপরে', 'উচিত', 'ও', 'ওই', 'ওর', 'ওরা', 'ওঁর', 'ওঁরা', 'ওকে', 'ওদের', 'ওঁদের', 'ওখানে', 'কত', 'কবে', \n",
    "                 'করতে', 'কয়েক', 'কয়েকটি', 'করবে', 'করলেন', 'করার', 'কারও', 'করা', 'করি', 'করিয়ে', 'করার', 'করাই', \n",
    "                 'করলে', 'করলেন', 'করিতে', 'করিয়া', 'করেছিলেন', 'করছে', 'করছেন', 'করেছেন', 'করেছে', 'করেন', 'করবেন', \n",
    "                 'করায়', 'করে', 'করেই', 'কাছ', 'কাছে', 'কাজে', 'কারণ', 'কিছু', 'কিছুই', 'কিন্তু', 'কিংবা', 'কি', 'কী', 'কেউ', \n",
    "                 'কেউই', 'কাউকে', 'কেন', 'কে', 'কোনও', 'কোনো', 'কোন', 'কখনও', 'ক্ষেত্রে', 'খুব\tগুলি', 'গিয়ে', 'গিয়েছে', \n",
    "                 'গেছে', 'গেল', 'গেলে', 'গোটা', 'চলে', 'ছাড়া', 'ছাড়াও', 'ছিলেন', 'ছিল', 'জন্য', 'জানা', 'ঠিক', 'তিনি', \n",
    "                 'তিনঐ', 'তিনিও', 'তখন', 'তবে', 'তবু', 'তাঁদের', 'তাঁাহারা', 'তাঁরা', 'তাঁর', 'তাঁকে', 'তাই', 'তেমন', 'তাকে', \n",
    "                 'তাহা', 'তাহাতে', 'তাহার', 'তাদের', 'তারপর', 'তারা', 'তারৈ', 'তার', 'তাহলে', 'তিনি', 'তা', 'তাও', 'তাতে', \n",
    "                 'তো', 'তত', 'তুমি', 'তোমার', 'তথা', 'থাকে', 'থাকা', 'থাকায়', 'থেকে', 'থেকেও', 'থাকবে', 'থাকেন', 'থাকবেন', \n",
    "                 'থেকেই', 'দিকে', 'দিতে', 'দিয়ে', 'দিয়েছে', 'দিয়েছেন', 'দিলেন', 'দু', 'দুটি', 'দুটো', 'দেয়', 'দেওয়া', 'দেওয়ার', \n",
    "                 'দেখা', 'দেখে', 'দেখতে', 'দ্বারা', 'ধরে', 'ধরা', 'নয়', 'নানা', 'না', 'নাকি', 'নাগাদ', 'নিতে', 'নিজে', 'নিজেই', \n",
    "                 'নিজের', 'নিজেদের', 'নিয়ে', 'নেওয়া', 'নেওয়ার', 'নেই', 'নাই', 'পক্ষে', 'পর্যন্ত', 'পাওয়া', 'পারেন', 'পারি', 'পারে', \n",
    "                 'পরে', 'পরেই', 'পরেও', 'পর', 'পেয়ে', 'প্রতি', 'প্রভৃতি', 'প্রায়', 'ফের', 'ফলে', 'ফিরে', 'ব্যবহার', 'বলতে', \n",
    "                 'বললেন', 'বলেছেন', 'বলল', 'বলা', 'বলেন', 'বলে', 'বহু', 'বসে', 'বার', 'বা', 'বিনা', 'বরং', 'বদলে', 'বাদে', \n",
    "                 'বার', 'বিশেষ', 'বিভিন্ন\tবিষয়টি', 'ব্যবহার', 'ব্যাপারে', 'ভাবে', 'ভাবেই', 'মধ্যে', 'মধ্যেই', 'মধ্যেও', 'মধ্যভাগে', \n",
    "                 'মাধ্যমে', 'মাত্র', 'মতো', 'মতোই', 'মোটেই', 'যখন', 'যদি', 'যদিও', 'যাবে', 'যায়', 'যাকে', 'যাওয়া', 'যাওয়ার', \n",
    "                 'যত', 'যতটা', 'যা', 'যার', 'যারা', 'যাঁর', 'যাঁরা', 'যাদের', 'যান', 'যাচ্ছে', 'যেতে', 'যাতে', 'যেন', 'যেমন', \n",
    "                 'যেখানে', 'যিনি', 'যে', 'রেখে', 'রাখা', 'রয়েছে', 'রকম', 'শুধু', 'সঙ্গে', 'সঙ্গেও', 'সমস্ত', 'সব', 'সবার', 'সহ', \n",
    "                 'সুতরাং', 'সহিত', 'সেই', 'সেটা', 'সেটি', 'সেটাই', 'সেটাও', 'সম্প্রতি', 'সেখান', 'সেখানে', 'সে', 'স্পষ্ট', 'স্বয়ং', \n",
    "                 'হইতে', 'হইবে', 'হৈলে', 'হইয়া', 'হচ্ছে', 'হত', 'হতে', 'হতেই', 'হবে', 'হবেন', 'হয়েছিল', 'হয়েছে', 'হয়েছেন', 'হয়ে', \n",
    "                 'হয়নি', 'হয়', 'হয়েই', 'হয়তো', 'হল', 'হলে', 'হলেই', 'হলেও', 'হলো', 'হিসাবে', 'হওয়া', 'হওয়ার', 'হওয়ায়', 'হন', \n",
    "                 'হোক', 'জন', 'জনকে', 'জনের', 'জানতে', 'জানায়', 'জানিয়ে', 'জানানো', 'জানিয়েছে', 'জন্য', 'জন্যওজে', 'জে', \n",
    "                 'বেশ', 'দেন', 'তুলে', 'ছিলেন', 'চান', 'চায়', 'চেয়ে', 'মোট', 'যথেষ্ট', 'টি']\n",
    "\n",
    "    sentences = [[word for word in sentence.split() if word not in stopwords] for sentence in sentences]\n",
    "    \n",
    "    return sentences\n",
    "\n",
    "train_sentences = preprocess_texts(train_sentences)\n",
    "train_texts = [' '.join(l) for l in train_sentences]\n",
    "bengali_train_df['sentence'] = train_texts\n",
    "\n",
    "test_sentences = preprocess_texts(test_sentences)\n",
    "test_texts = [' '.join(l) for l in test_sentences]\n",
    "bengali_test_df['sentence'] = test_texts\n",
    "\n",
    "other_sentences = preprocess_texts(other_sentences)\n",
    "other_texts = [' '.join(l) for l in other_sentences]\n",
    "bengali_other_df['sentence'] = other_texts"
   ]
  },
  {
   "cell_type": "code",
   "execution_count": 8,
   "metadata": {},
   "outputs": [
    {
     "name": "stdout",
     "output_type": "stream",
     "text": [
      "train:\n"
     ]
    },
    {
     "data": {
      "text/html": [
       "<div>\n",
       "<style scoped>\n",
       "    .dataframe tbody tr th:only-of-type {\n",
       "        vertical-align: middle;\n",
       "    }\n",
       "\n",
       "    .dataframe tbody tr th {\n",
       "        vertical-align: top;\n",
       "    }\n",
       "\n",
       "    .dataframe thead th {\n",
       "        text-align: right;\n",
       "    }\n",
       "</style>\n",
       "<table border=\"1\" class=\"dataframe\">\n",
       "  <thead>\n",
       "    <tr style=\"text-align: right;\">\n",
       "      <th></th>\n",
       "      <th>sentence</th>\n",
       "      <th>hate</th>\n",
       "      <th>category</th>\n",
       "    </tr>\n",
       "  </thead>\n",
       "  <tbody>\n",
       "    <tr>\n",
       "      <th>20440</th>\n",
       "      <td>সমকামী হুজুর</td>\n",
       "      <td>0</td>\n",
       "      <td>religion</td>\n",
       "    </tr>\n",
       "    <tr>\n",
       "      <th>7678</th>\n",
       "      <td>ছাএলীগ সালা দের নিসিদ্দ হক</td>\n",
       "      <td>1</td>\n",
       "      <td>politics</td>\n",
       "    </tr>\n",
       "    <tr>\n",
       "      <th>22116</th>\n",
       "      <td>কাওয়া গদি ছারলে বুজবে জুতা কেমনে খায়</td>\n",
       "      <td>0</td>\n",
       "      <td>politics</td>\n",
       "    </tr>\n",
       "    <tr>\n",
       "      <th>7368</th>\n",
       "      <td>কাউয়া কাদের বড় মাগীখোর ভিডিও পিক দেখলে বুঝা লু...</td>\n",
       "      <td>1</td>\n",
       "      <td>politics</td>\n",
       "    </tr>\n",
       "    <tr>\n",
       "      <th>27690</th>\n",
       "      <td>অপু ভালো কথা ছোট করবেনা</td>\n",
       "      <td>0</td>\n",
       "      <td>Meme, TikTok and others</td>\n",
       "    </tr>\n",
       "  </tbody>\n",
       "</table>\n",
       "</div>"
      ],
      "text/plain": [
       "                                                sentence  hate  \\\n",
       "20440                                       সমকামী হুজুর     0   \n",
       "7678                          ছাএলীগ সালা দের নিসিদ্দ হক     1   \n",
       "22116               কাওয়া গদি ছারলে বুজবে জুতা কেমনে খায়     0   \n",
       "7368   কাউয়া কাদের বড় মাগীখোর ভিডিও পিক দেখলে বুঝা লু...     1   \n",
       "27690                            অপু ভালো কথা ছোট করবেনা     0   \n",
       "\n",
       "                      category  \n",
       "20440                 religion  \n",
       "7678                  politics  \n",
       "22116                 politics  \n",
       "7368                  politics  \n",
       "27690  Meme, TikTok and others  "
      ]
     },
     "metadata": {},
     "output_type": "display_data"
    },
    {
     "name": "stdout",
     "output_type": "stream",
     "text": [
      "test:\n"
     ]
    },
    {
     "data": {
      "text/html": [
       "<div>\n",
       "<style scoped>\n",
       "    .dataframe tbody tr th:only-of-type {\n",
       "        vertical-align: middle;\n",
       "    }\n",
       "\n",
       "    .dataframe tbody tr th {\n",
       "        vertical-align: top;\n",
       "    }\n",
       "\n",
       "    .dataframe thead th {\n",
       "        text-align: right;\n",
       "    }\n",
       "</style>\n",
       "<table border=\"1\" class=\"dataframe\">\n",
       "  <thead>\n",
       "    <tr style=\"text-align: right;\">\n",
       "      <th></th>\n",
       "      <th>sentence</th>\n",
       "      <th>hate</th>\n",
       "      <th>category</th>\n",
       "    </tr>\n",
       "  </thead>\n",
       "  <tbody>\n",
       "    <tr>\n",
       "      <th>17168</th>\n",
       "      <td>মহিলাকে রিমানডে</td>\n",
       "      <td>0</td>\n",
       "      <td>crime</td>\n",
       "    </tr>\n",
       "    <tr>\n",
       "      <th>17512</th>\n",
       "      <td>তুর রিপাতকে মন চাইছিল ছেড়ে গেলি সাথে মিত্যে অ...</td>\n",
       "      <td>0</td>\n",
       "      <td>crime</td>\n",
       "    </tr>\n",
       "    <tr>\n",
       "      <th>21184</th>\n",
       "      <td>হুমায়ুন আজাদ এতো বড় ক্রাক মাতাল</td>\n",
       "      <td>0</td>\n",
       "      <td>religion</td>\n",
       "    </tr>\n",
       "    <tr>\n",
       "      <th>22900</th>\n",
       "      <td>বাংাল দেশের সবচেয়ে সাহসি ইউটুবার👍👍👍</td>\n",
       "      <td>0</td>\n",
       "      <td>politics</td>\n",
       "    </tr>\n",
       "    <tr>\n",
       "      <th>7063</th>\n",
       "      <td>কাদের ধনের মাথা চোর কাদের একটা ফাটা কেষ্ট কোই ...</td>\n",
       "      <td>1</td>\n",
       "      <td>politics</td>\n",
       "    </tr>\n",
       "  </tbody>\n",
       "</table>\n",
       "</div>"
      ],
      "text/plain": [
       "                                                sentence  hate  category\n",
       "17168                                    মহিলাকে রিমানডে     0     crime\n",
       "17512  তুর রিপাতকে মন চাইছিল ছেড়ে গেলি সাথে মিত্যে অ...     0     crime\n",
       "21184                    হুমায়ুন আজাদ এতো বড় ক্রাক মাতাল     0  religion\n",
       "22900                বাংাল দেশের সবচেয়ে সাহসি ইউটুবার👍👍👍     0  politics\n",
       "7063   কাদের ধনের মাথা চোর কাদের একটা ফাটা কেষ্ট কোই ...     1  politics"
      ]
     },
     "metadata": {},
     "output_type": "display_data"
    },
    {
     "name": "stdout",
     "output_type": "stream",
     "text": [
      "other:\n"
     ]
    },
    {
     "data": {
      "text/html": [
       "<div>\n",
       "<style scoped>\n",
       "    .dataframe tbody tr th:only-of-type {\n",
       "        vertical-align: middle;\n",
       "    }\n",
       "\n",
       "    .dataframe tbody tr th {\n",
       "        vertical-align: top;\n",
       "    }\n",
       "\n",
       "    .dataframe thead th {\n",
       "        text-align: right;\n",
       "    }\n",
       "</style>\n",
       "<table border=\"1\" class=\"dataframe\">\n",
       "  <thead>\n",
       "    <tr style=\"text-align: right;\">\n",
       "      <th></th>\n",
       "      <th>sentence</th>\n",
       "      <th>hate</th>\n",
       "      <th>category</th>\n",
       "    </tr>\n",
       "  </thead>\n",
       "  <tbody>\n",
       "    <tr>\n",
       "      <th>13576</th>\n",
       "      <td>ছবিটা চখে পানি বাল একটা ছবি</td>\n",
       "      <td>0</td>\n",
       "      <td>entertainment</td>\n",
       "    </tr>\n",
       "    <tr>\n",
       "      <th>974</th>\n",
       "      <td>পাপন খানকির পোলা মেইন শয়তান ওরে লাথথী মাইরা বি...</td>\n",
       "      <td>1</td>\n",
       "      <td>sports</td>\n",
       "    </tr>\n",
       "    <tr>\n",
       "      <th>17401</th>\n",
       "      <td>পরিবেশটা সুন্দর ডিসি কেহ গালি ডিসি সরাসরি ঢেলে...</td>\n",
       "      <td>0</td>\n",
       "      <td>crime</td>\n",
       "    </tr>\n",
       "    <tr>\n",
       "      <th>19883</th>\n",
       "      <td>ইয়া আল্লাহ ইফতারের সময় দোয়া কবুলের সময় সময় দোয়...</td>\n",
       "      <td>0</td>\n",
       "      <td>religion</td>\n",
       "    </tr>\n",
       "    <tr>\n",
       "      <th>9722</th>\n",
       "      <td>মাদারচোদ ইহুধির দালাল বাবরি মসজিদ ভাংলে মন্ধির...</td>\n",
       "      <td>1</td>\n",
       "      <td>Meme, TikTok and others</td>\n",
       "    </tr>\n",
       "  </tbody>\n",
       "</table>\n",
       "</div>"
      ],
      "text/plain": [
       "                                                sentence  hate  \\\n",
       "13576                        ছবিটা চখে পানি বাল একটা ছবি     0   \n",
       "974    পাপন খানকির পোলা মেইন শয়তান ওরে লাথথী মাইরা বি...     1   \n",
       "17401  পরিবেশটা সুন্দর ডিসি কেহ গালি ডিসি সরাসরি ঢেলে...     0   \n",
       "19883  ইয়া আল্লাহ ইফতারের সময় দোয়া কবুলের সময় সময় দোয়...     0   \n",
       "9722   মাদারচোদ ইহুধির দালাল বাবরি মসজিদ ভাংলে মন্ধির...     1   \n",
       "\n",
       "                      category  \n",
       "13576            entertainment  \n",
       "974                     sports  \n",
       "17401                    crime  \n",
       "19883                 religion  \n",
       "9722   Meme, TikTok and others  "
      ]
     },
     "metadata": {},
     "output_type": "display_data"
    }
   ],
   "source": [
    "print('train:')\n",
    "display(bengali_train_df.head())\n",
    "print('test:')\n",
    "display(bengali_test_df.head())\n",
    "print('other:')\n",
    "display(bengali_other_df.head())"
   ]
  },
  {
   "cell_type": "markdown",
   "metadata": {},
   "source": [
    "## Prepare vocab set"
   ]
  },
  {
   "cell_type": "code",
   "execution_count": 9,
   "metadata": {},
   "outputs": [
    {
     "name": "stdout",
     "output_type": "stream",
     "text": [
      "vocab_size: 15231\n"
     ]
    }
   ],
   "source": [
    "train_sentences = [text.split() for text in bengali_train_df['sentence']]\n",
    "\n",
    "# flattened_words: all words in all sentences\n",
    "flattened_words = [word for sentence in train_sentences for word in sentence]\n",
    "\n",
    "# word_counter: count occurences of each word\n",
    "word_counter = Counter(flattened_words)\n",
    "\n",
    "# V: vocabulary\n",
    "V = list(set(flattened_words))\n",
    "vocab_size = len(V)\n",
    "print(f'vocab_size: {vocab_size}')\n",
    "\n",
    "# mappings word->id and id->word\n",
    "word_to_int = {}\n",
    "int_to_word = {}\n",
    "for i, word in enumerate(V):\n",
    "    word_to_int[word] = i\n",
    "    int_to_word[i] = word"
   ]
  },
  {
   "cell_type": "code",
   "execution_count": 10,
   "metadata": {},
   "outputs": [],
   "source": [
    "# save dicts for transformation word <-> int\n",
    "with open('save/bengali_word_to_int_dict.json', 'w') as f:\n",
    "    json.dump(word_to_int, f)\n",
    "with open('save/bengali_int_to_word_dict.json', 'w') as f:\n",
    "    json.dump(int_to_word, f)\n",
    "with open('save/bengali_word_counter.json', 'w') as f:\n",
    "    json.dump(word_counter, f)"
   ]
  },
  {
   "cell_type": "code",
   "execution_count": 11,
   "metadata": {},
   "outputs": [],
   "source": [
    "bengali_train_df.to_csv('save/bengali_hatespeech_sample_train_preprocessed.csv', index=False)\n",
    "bengali_test_df.to_csv('save/bengali_hatespeech_sample_test_preprocessed.csv', index=False)\n",
    "bengali_other_df.to_csv('save/bengali_hatespeech_other_preprocessed.csv', index=False)"
   ]
  },
  {
   "cell_type": "code",
   "execution_count": null,
   "metadata": {},
   "outputs": [],
   "source": []
  }
 ],
 "metadata": {
  "kernelspec": {
   "display_name": "Python 3",
   "language": "python",
   "name": "python3"
  },
  "language_info": {
   "codemirror_mode": {
    "name": "ipython",
    "version": 3
   },
   "file_extension": ".py",
   "mimetype": "text/x-python",
   "name": "python",
   "nbconvert_exporter": "python",
   "pygments_lexer": "ipython3",
   "version": "3.8.3"
  }
 },
 "nbformat": 4,
 "nbformat_minor": 4
}
