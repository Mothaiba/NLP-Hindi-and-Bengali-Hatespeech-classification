{
 "cells": [
  {
   "cell_type": "markdown",
   "metadata": {},
   "source": [
    "## Import libraries"
   ]
  },
  {
   "cell_type": "code",
   "execution_count": 1,
   "metadata": {},
   "outputs": [
    {
     "data": {
      "text/plain": [
       "<torch._C.Generator at 0x7f88e43b3f90>"
      ]
     },
     "execution_count": 1,
     "metadata": {},
     "output_type": "execute_result"
    }
   ],
   "source": [
    "# Imports\n",
    "import re\n",
    "import string\n",
    "import json\n",
    "from datetime import datetime\n",
    "from collections import defaultdict, Counter\n",
    "\n",
    "import numpy as np\n",
    "import pandas as pd\n",
    "import matplotlib.pyplot as plt\n",
    "from tqdm import tqdm\n",
    "\n",
    "import torch\n",
    "import torch.nn as nn\n",
    "from torch.nn import Module\n",
    "import torch.optim as optim\n",
    "import torch.nn.functional as F\n",
    "from torch.utils.data import Dataset, DataLoader\n",
    "from torch.nn.utils.rnn import pad_sequence, pack_padded_sequence, pad_packed_sequence\n",
    "\n",
    "from sklearn.model_selection import train_test_split\n",
    "from sklearn.metrics import f1_score\n",
    "\n",
    "from nltk.corpus import stopwords\n",
    "\n",
    "device = 'cpu'\n",
    "\n",
    "import random\n",
    "\n",
    "random.seed(26)\n",
    "np.random.seed(62)\n",
    "torch.manual_seed(2021)"
   ]
  },
  {
   "cell_type": "markdown",
   "metadata": {},
   "source": [
    "## Load data"
   ]
  },
  {
   "cell_type": "code",
   "execution_count": 2,
   "metadata": {},
   "outputs": [
    {
     "data": {
      "text/html": [
       "<div>\n",
       "<style scoped>\n",
       "    .dataframe tbody tr th:only-of-type {\n",
       "        vertical-align: middle;\n",
       "    }\n",
       "\n",
       "    .dataframe tbody tr th {\n",
       "        vertical-align: top;\n",
       "    }\n",
       "\n",
       "    .dataframe thead th {\n",
       "        text-align: right;\n",
       "    }\n",
       "</style>\n",
       "<table border=\"1\" class=\"dataframe\">\n",
       "  <thead>\n",
       "    <tr style=\"text-align: right;\">\n",
       "      <th></th>\n",
       "      <th>sentence</th>\n",
       "      <th>hate</th>\n",
       "      <th>category</th>\n",
       "    </tr>\n",
       "  </thead>\n",
       "  <tbody>\n",
       "    <tr>\n",
       "      <th>0</th>\n",
       "      <td>নটির পুতেরে জুতা বাইরে</td>\n",
       "      <td>1</td>\n",
       "      <td>religion</td>\n",
       "    </tr>\n",
       "    <tr>\n",
       "      <th>1</th>\n",
       "      <td>কুত্তাকে গণধোলাই দেওয়া জানোয়ারটা যেই হাত দিয...</td>\n",
       "      <td>1</td>\n",
       "      <td>Meme, TikTok and others</td>\n",
       "    </tr>\n",
       "    <tr>\n",
       "      <th>2</th>\n",
       "      <td>তোর বউয়ের ভোদ চোদ জাইয়া</td>\n",
       "      <td>1</td>\n",
       "      <td>religion</td>\n",
       "    </tr>\n",
       "    <tr>\n",
       "      <th>3</th>\n",
       "      <td>কুত্তার বাচ্চা কোথায় পাবো</td>\n",
       "      <td>1</td>\n",
       "      <td>religion</td>\n",
       "    </tr>\n",
       "    <tr>\n",
       "      <th>4</th>\n",
       "      <td>সালিকে জতাপিটা</td>\n",
       "      <td>1</td>\n",
       "      <td>crime</td>\n",
       "    </tr>\n",
       "  </tbody>\n",
       "</table>\n",
       "</div>"
      ],
      "text/plain": [
       "                                            sentence  hate  \\\n",
       "0                             নটির পুতেরে জুতা বাইরে     1   \n",
       "1  কুত্তাকে গণধোলাই দেওয়া জানোয়ারটা যেই হাত দিয...     1   \n",
       "2                            তোর বউয়ের ভোদ চোদ জাইয়া     1   \n",
       "3                          কুত্তার বাচ্চা কোথায় পাবো     1   \n",
       "4                                     সালিকে জতাপিটা     1   \n",
       "\n",
       "                  category  \n",
       "0                 religion  \n",
       "1  Meme, TikTok and others  \n",
       "2                 religion  \n",
       "3                 religion  \n",
       "4                    crime  "
      ]
     },
     "metadata": {},
     "output_type": "display_data"
    }
   ],
   "source": [
    "ben_train_df = pd.read_csv('save/bengali_hatespeech_sample_train_preprocessed.csv')\n",
    "ben_test_df = pd.read_csv('save/bengali_hatespeech_sample_test_preprocessed.csv')\n",
    "\n",
    "display(ben_train_df.head())"
   ]
  },
  {
   "cell_type": "code",
   "execution_count": 3,
   "metadata": {},
   "outputs": [
    {
     "name": "stdout",
     "output_type": "stream",
     "text": [
      "Train data:\n",
      "[['নটির', 'পুতেরে', 'জুতা', 'বাইরে'], ['কুত্তাকে', 'গণধোলাই', 'দেওয়া', 'জানোয়ারটা', 'যেই', 'হাত', 'দিয়ে', 'মারছে', 'হাতটা', 'ভেঙ্গে', 'দিন'], ['তোর', 'বউয়ের', 'ভোদ', 'চোদ', 'জাইয়া']]\n",
      "[1 1 1 ... 1 1 1]\n",
      "\n",
      "Test data:\n",
      "[['শালা', 'তাহেরি', 'ওরে', 'বাশ', 'দেয়া', 'হোউক'], ['খানকির', 'বাচ্চা', 'তোরে', 'এনাকোন্ডা', 'মারা', 'খা'], ['ওরে', 'পুলিশের', 'হাতে', 'দেয়ার', 'সবাই', 'মিলে', 'পিটিয়ে', 'আধমরা', 'করলো']]\n",
      "[1 1 0 ... 0 0 0]\n"
     ]
    }
   ],
   "source": [
    "# remove empty texts\n",
    "ben_train_df = ben_train_df[ben_train_df.sentence.str.len() > 0]\n",
    "# extract sentences and labels\n",
    "train_sentences = [text.split() for text in ben_train_df['sentence']]\n",
    "train_labels = ben_train_df['hate'].to_numpy()\n",
    "\n",
    "# remove empty texts\n",
    "ben_test_df = ben_test_df[ben_test_df.sentence.str.len() > 0]\n",
    "# extract sentences and labels\n",
    "test_sentences = [text.split() for text in ben_test_df['sentence']]\n",
    "test_labels = ben_test_df['hate'].to_numpy()\n",
    "\n",
    "print('Train data:')\n",
    "print(train_sentences[:3])\n",
    "print(train_labels)\n",
    "print()\n",
    "print('Test data:')\n",
    "print(test_sentences[:3])\n",
    "print(test_labels)"
   ]
  },
  {
   "cell_type": "markdown",
   "metadata": {},
   "source": [
    "## Prepare vocab set"
   ]
  },
  {
   "cell_type": "code",
   "execution_count": 4,
   "metadata": {},
   "outputs": [
    {
     "name": "stdout",
     "output_type": "stream",
     "text": [
      "vocab_size: 15231\n"
     ]
    }
   ],
   "source": [
    "# load mapping {word -> id} and {id -> word}\n",
    "with open('save/bengali_word_to_int_dict.json') as f:\n",
    "    word_to_int = json.load(f)\n",
    "with open('save/bengali_int_to_word_dict.json') as f:\n",
    "    int_to_word = json.load(f)\n",
    "    int_to_word = {int(k) : v for k, v in int_to_word.items()}\n",
    "\n",
    "# get vocab_size\n",
    "vocab_size = len(word_to_int)\n",
    "print(f'vocab_size: {vocab_size}')"
   ]
  },
  {
   "cell_type": "code",
   "execution_count": 5,
   "metadata": {},
   "outputs": [],
   "source": [
    "train_sentences = [[word_to_int[word] for word in sentence] for sentence in train_sentences]\n",
    "test_sentences = [[word_to_int[word] for word in sentence if word in word_to_int] for sentence in test_sentences]"
   ]
  },
  {
   "cell_type": "markdown",
   "metadata": {},
   "source": [
    "## Hyper-parameters"
   ]
  },
  {
   "cell_type": "code",
   "execution_count": 6,
   "metadata": {},
   "outputs": [],
   "source": [
    "embedding_path = 'save/embedding_weights.pt'\n",
    "embedding_size = 300\n",
    "att_dim = 150\n",
    "learning_rate = 1e-4\n",
    "batch_size = 32\n",
    "epochs = 30"
   ]
  },
  {
   "cell_type": "markdown",
   "metadata": {},
   "source": [
    "## Build datasets"
   ]
  },
  {
   "cell_type": "code",
   "execution_count": 7,
   "metadata": {},
   "outputs": [],
   "source": [
    "class HOFDataset(Dataset):\n",
    "    def __init__(self, sentences, labels):\n",
    "        self.data = []\n",
    "        for sentence, label in zip(sentences, labels):\n",
    "            if len(sentence):\n",
    "                self.data.append(\n",
    "                    (torch.tensor(sentence, dtype=torch.long), \n",
    "                     torch.tensor(label, dtype=torch.float))\n",
    "                )\n",
    "    \n",
    "    def __len__(self):\n",
    "        return len(self.data)\n",
    "    \n",
    "    def __getitem__(self, index):\n",
    "        return self.data[index]\n",
    "    \n",
    "def preprocess_batch(batch):\n",
    "    texts, labels = list(zip(*batch))\n",
    "    seq_lens = torch.tensor([len(text) for text in texts], dtype=torch.long)\n",
    "    texts = pad_sequence(texts, padding_value=0)\n",
    "    labels = torch.tensor(labels).unsqueeze(1)\n",
    "\n",
    "    seq_lens, sorted_idx = seq_lens.sort(descending=True)\n",
    "    texts = texts[:,sorted_idx]\n",
    "    labels = labels[sorted_idx]\n",
    "    return texts, seq_lens, labels\n",
    "\n",
    "train_dataset = HOFDataset(train_sentences, train_labels)\n",
    "train_loader = DataLoader(train_dataset, batch_size=batch_size, \n",
    "                          shuffle=True, collate_fn=preprocess_batch)\n",
    "\n",
    "test_dataset = HOFDataset(test_sentences, test_labels)\n",
    "test_loader = DataLoader(test_dataset, batch_size=batch_size, \n",
    "                         shuffle=False, collate_fn=preprocess_batch)"
   ]
  },
  {
   "cell_type": "markdown",
   "metadata": {},
   "source": [
    "## Network architecture"
   ]
  },
  {
   "cell_type": "code",
   "execution_count": 8,
   "metadata": {},
   "outputs": [],
   "source": [
    "def mask_seq(seq_lens):\n",
    "    mask = torch.zeros((len(seq_lens), max(seq_lens))).bool()\n",
    "    for i, seq_len in enumerate(seq_lens):\n",
    "        mask[i, seq_len:] = True\n",
    "    return mask"
   ]
  },
  {
   "cell_type": "code",
   "execution_count": 9,
   "metadata": {},
   "outputs": [
    {
     "name": "stdout",
     "output_type": "stream",
     "text": [
      "Hindi classifier:\n",
      "Classifier(\n",
      "  (embed): Embedding(20402, 300)\n",
      "  (attention): MultiheadAttention(\n",
      "    (out_proj): _LinearWithBias(in_features=300, out_features=300, bias=True)\n",
      "  )\n",
      "  (fc): Linear(in_features=300, out_features=1, bias=True)\n",
      ")\n",
      "Bengali classifier:\n",
      "Classifier(\n",
      "  (embed): Embedding(15231, 300)\n",
      "  (attention): MultiheadAttention(\n",
      "    (out_proj): _LinearWithBias(in_features=300, out_features=300, bias=True)\n",
      "  )\n",
      "  (fc): Linear(in_features=300, out_features=1, bias=True)\n",
      ")\n"
     ]
    }
   ],
   "source": [
    "# get hindi_vocab_size\n",
    "with open('../../Task_1/save/word_to_int_dict.json') as f:\n",
    "    hindi_word_to_int = json.load(f)\n",
    "hindi_vocab_size = len(hindi_word_to_int)\n",
    "\n",
    "# define classifier\n",
    "class Classifier(Module):\n",
    "    def __init__(self):\n",
    "        super(Classifier, self).__init__()\n",
    "\n",
    "        self.embed = nn.Embedding(hindi_vocab_size, embedding_size)\n",
    "        \n",
    "        self.attention = nn.MultiheadAttention(embed_dim=embedding_size,\n",
    "                                               num_heads=10,\n",
    "                                               dropout=0.5,)\n",
    "        self.attention.requires_grad = False # fix all layers except embedding.\n",
    "\n",
    "        self.fc = nn.Linear(embedding_size, 1)\n",
    "        self.fc.requires_grad = False # fix all layers except embedding.\n",
    "\n",
    "    def forward(self, inp, seq_lens):\n",
    "        out = self.embed(inp)\n",
    "        pad_mask = mask_seq(seq_lens)\n",
    "        att_out, _ = self.attention(out, out, out, key_padding_mask=pad_mask)\n",
    "        out = F.layer_norm(out + att_out, (out.size(2), ))\n",
    "        out = self.fc(out).squeeze(2)\n",
    "        pred = torch.zeros((out.size(1), 1))\n",
    "        for i, seq_len in enumerate(seq_lens):\n",
    "            pred[i, 0] = out[:seq_len, i].mean()\n",
    "        return pred\n",
    "\n",
    "# load pre-trained hindi classifier\n",
    "hindi_clf = Classifier().to(device)\n",
    "hindi_model_weight_path = '../hindi_hindi/save/hindi_clf.pt'\n",
    "hindi_clf.load_state_dict(torch.load(hindi_model_weight_path, map_location=torch.device(device)))\n",
    "print('Hindi classifier:')\n",
    "print(hindi_clf.eval())\n",
    "\n",
    "# replace the embedding layer to make it a bengali classifier\n",
    "bengali_embed = nn.Embedding(vocab_size, embedding_size)\n",
    "bengali_clf = hindi_clf\n",
    "bengali_clf._modules['embed'] = bengali_embed\n",
    "print('Bengali classifier:')\n",
    "print(bengali_clf.eval())"
   ]
  },
  {
   "cell_type": "markdown",
   "metadata": {},
   "source": [
    "## Loss function and optimizer"
   ]
  },
  {
   "cell_type": "code",
   "execution_count": 10,
   "metadata": {},
   "outputs": [],
   "source": [
    "criterion = nn.BCEWithLogitsLoss()\n",
    "optimizer = optim.Adam(bengali_clf.parameters(), lr=learning_rate)"
   ]
  },
  {
   "cell_type": "markdown",
   "metadata": {},
   "source": [
    "## Measure performance on test data"
   ]
  },
  {
   "cell_type": "code",
   "execution_count": 11,
   "metadata": {},
   "outputs": [],
   "source": [
    "def predict_test():\n",
    "    losses = 0\n",
    "    acc_cnt = 0\n",
    "    cnt = 0\n",
    "    preds = []\n",
    "    true_labels = []\n",
    "    for texts, seq_lens, labels in test_loader:\n",
    "        pred = bengali_clf(texts.to(device), seq_lens).detach().to('cpu')\n",
    "        loss = criterion(pred, labels)\n",
    "        losses += loss.detach().item() * len(texts)\n",
    "        acc_cnt += sum((pred > 0) == (labels > 0)).item()\n",
    "        preds.extend(pred.view(-1))\n",
    "        true_labels.extend(labels.view(-1))\n",
    "        cnt += texts.size(1)\n",
    "    \n",
    "    preds = np.array(preds) > 0\n",
    "    macro_f1 = f1_score(true_labels, preds, average='macro')\n",
    "    weighted_f1 = f1_score(true_labels, preds, average='weighted')\n",
    "    return losses / cnt, acc_cnt / cnt, macro_f1, weighted_f1"
   ]
  },
  {
   "cell_type": "markdown",
   "metadata": {},
   "source": [
    "## Training"
   ]
  },
  {
   "cell_type": "code",
   "execution_count": 12,
   "metadata": {},
   "outputs": [
    {
     "name": "stderr",
     "output_type": "stream",
     "text": [
      "100%|██████████| 146/146 [00:11<00:00, 12.73it/s]\n"
     ]
    },
    {
     "name": "stdout",
     "output_type": "stream",
     "text": [
      "Epoch  1: Train loss: 1.2838, acc: 0.5430. Test loss: 1.0016, acc: 0.5868, macro_f1: 0.5865, weighted_f1: 0.5857\n"
     ]
    },
    {
     "name": "stderr",
     "output_type": "stream",
     "text": [
      "100%|██████████| 146/146 [00:11<00:00, 13.15it/s]\n"
     ]
    },
    {
     "name": "stdout",
     "output_type": "stream",
     "text": [
      "Epoch  2: Train loss: 1.0832, acc: 0.6505. Test loss: 0.9190, acc: 0.6465, macro_f1: 0.6463, weighted_f1: 0.6457\n"
     ]
    },
    {
     "name": "stderr",
     "output_type": "stream",
     "text": [
      "100%|██████████| 146/146 [00:19<00:00,  7.45it/s]\n"
     ]
    },
    {
     "name": "stdout",
     "output_type": "stream",
     "text": [
      "Epoch  3: Train loss: 0.9875, acc: 0.6964. Test loss: 0.9063, acc: 0.6760, macro_f1: 0.6760, weighted_f1: 0.6760\n"
     ]
    },
    {
     "name": "stderr",
     "output_type": "stream",
     "text": [
      "100%|██████████| 146/146 [00:18<00:00,  8.09it/s]\n"
     ]
    },
    {
     "name": "stdout",
     "output_type": "stream",
     "text": [
      "Epoch  4: Train loss: 0.9406, acc: 0.7322. Test loss: 0.8737, acc: 0.6868, macro_f1: 0.6867, weighted_f1: 0.6871\n"
     ]
    },
    {
     "name": "stderr",
     "output_type": "stream",
     "text": [
      "100%|██████████| 146/146 [00:14<00:00, 10.04it/s]\n"
     ]
    },
    {
     "name": "stdout",
     "output_type": "stream",
     "text": [
      "Epoch  5: Train loss: 0.8807, acc: 0.7548. Test loss: 0.8743, acc: 0.7039, macro_f1: 0.7035, weighted_f1: 0.7043\n"
     ]
    },
    {
     "name": "stderr",
     "output_type": "stream",
     "text": [
      "100%|██████████| 146/146 [00:13<00:00, 10.55it/s]\n"
     ]
    },
    {
     "name": "stdout",
     "output_type": "stream",
     "text": [
      "Epoch  6: Train loss: 0.8348, acc: 0.7803. Test loss: 0.8822, acc: 0.7085, macro_f1: 0.7082, weighted_f1: 0.7089\n"
     ]
    },
    {
     "name": "stderr",
     "output_type": "stream",
     "text": [
      "100%|██████████| 146/146 [00:11<00:00, 12.29it/s]\n"
     ]
    },
    {
     "name": "stdout",
     "output_type": "stream",
     "text": [
      "Epoch  7: Train loss: 0.7415, acc: 0.8033. Test loss: 0.8634, acc: 0.7171, macro_f1: 0.7164, weighted_f1: 0.7174\n"
     ]
    },
    {
     "name": "stderr",
     "output_type": "stream",
     "text": [
      "100%|██████████| 146/146 [00:11<00:00, 12.29it/s]\n"
     ]
    },
    {
     "name": "stdout",
     "output_type": "stream",
     "text": [
      "Epoch  8: Train loss: 0.7296, acc: 0.8209. Test loss: 0.8861, acc: 0.7186, macro_f1: 0.7181, weighted_f1: 0.7190\n"
     ]
    },
    {
     "name": "stderr",
     "output_type": "stream",
     "text": [
      "100%|██████████| 146/146 [00:11<00:00, 12.58it/s]\n"
     ]
    },
    {
     "name": "stdout",
     "output_type": "stream",
     "text": [
      "Epoch  9: Train loss: 0.6603, acc: 0.8417. Test loss: 0.9379, acc: 0.7217, macro_f1: 0.7212, weighted_f1: 0.7220\n"
     ]
    },
    {
     "name": "stderr",
     "output_type": "stream",
     "text": [
      "100%|██████████| 146/146 [00:13<00:00, 11.16it/s]\n"
     ]
    },
    {
     "name": "stdout",
     "output_type": "stream",
     "text": [
      "Epoch 10: Train loss: 0.5796, acc: 0.8556. Test loss: 0.9072, acc: 0.7357, macro_f1: 0.7350, weighted_f1: 0.7359\n"
     ]
    },
    {
     "name": "stderr",
     "output_type": "stream",
     "text": [
      "100%|██████████| 146/146 [00:12<00:00, 11.29it/s]\n"
     ]
    },
    {
     "name": "stdout",
     "output_type": "stream",
     "text": [
      "Epoch 11: Train loss: 0.5159, acc: 0.8769. Test loss: 0.9346, acc: 0.7341, macro_f1: 0.7333, weighted_f1: 0.7344\n"
     ]
    },
    {
     "name": "stderr",
     "output_type": "stream",
     "text": [
      "100%|██████████| 146/146 [00:13<00:00, 10.62it/s]\n"
     ]
    },
    {
     "name": "stdout",
     "output_type": "stream",
     "text": [
      "Epoch 12: Train loss: 0.4896, acc: 0.8923. Test loss: 1.0596, acc: 0.7380, macro_f1: 0.7374, weighted_f1: 0.7383\n"
     ]
    },
    {
     "name": "stderr",
     "output_type": "stream",
     "text": [
      "100%|██████████| 146/146 [00:17<00:00,  8.22it/s]\n"
     ]
    },
    {
     "name": "stdout",
     "output_type": "stream",
     "text": [
      "Epoch 13: Train loss: 0.4194, acc: 0.9123. Test loss: 1.0324, acc: 0.7426, macro_f1: 0.7421, weighted_f1: 0.7429\n"
     ]
    },
    {
     "name": "stderr",
     "output_type": "stream",
     "text": [
      "100%|██████████| 146/146 [00:15<00:00,  9.68it/s]\n"
     ]
    },
    {
     "name": "stdout",
     "output_type": "stream",
     "text": [
      "Epoch 14: Train loss: 0.3696, acc: 0.9264. Test loss: 1.0889, acc: 0.7349, macro_f1: 0.7342, weighted_f1: 0.7352\n"
     ]
    },
    {
     "name": "stderr",
     "output_type": "stream",
     "text": [
      "100%|██████████| 146/146 [00:13<00:00, 10.54it/s]\n"
     ]
    },
    {
     "name": "stdout",
     "output_type": "stream",
     "text": [
      "Epoch 15: Train loss: 0.3285, acc: 0.9374. Test loss: 1.1667, acc: 0.7349, macro_f1: 0.7346, weighted_f1: 0.7352\n"
     ]
    },
    {
     "name": "stderr",
     "output_type": "stream",
     "text": [
      "100%|██████████| 146/146 [00:15<00:00,  9.69it/s]\n"
     ]
    },
    {
     "name": "stdout",
     "output_type": "stream",
     "text": [
      "Epoch 16: Train loss: 0.2681, acc: 0.9511. Test loss: 1.2071, acc: 0.7326, macro_f1: 0.7323, weighted_f1: 0.7329\n"
     ]
    },
    {
     "name": "stderr",
     "output_type": "stream",
     "text": [
      "100%|██████████| 146/146 [00:13<00:00, 10.76it/s]\n"
     ]
    },
    {
     "name": "stdout",
     "output_type": "stream",
     "text": [
      "Epoch 17: Train loss: 0.2518, acc: 0.9522. Test loss: 1.2191, acc: 0.7395, macro_f1: 0.7391, weighted_f1: 0.7399\n"
     ]
    },
    {
     "name": "stderr",
     "output_type": "stream",
     "text": [
      "100%|██████████| 146/146 [00:12<00:00, 11.49it/s]\n"
     ]
    },
    {
     "name": "stdout",
     "output_type": "stream",
     "text": [
      "Epoch 18: Train loss: 0.2095, acc: 0.9667. Test loss: 1.2460, acc: 0.7426, macro_f1: 0.7423, weighted_f1: 0.7430\n",
      "Early stopping: test accuracy does not increase after 5 epochs\n"
     ]
    }
   ],
   "source": [
    "list_test_acc = []\n",
    "early_stop = 5\n",
    "\n",
    "for epoch in range(1, epochs + 1):\n",
    "    losses = 0.\n",
    "    acc_cnt = 0\n",
    "    cnt = 0\n",
    "    bengali_clf.train()\n",
    "    for texts, seq_lens, labels in tqdm(train_loader):\n",
    "        optimizer.zero_grad()\n",
    "        pred = bengali_clf(texts.to(device), seq_lens)\n",
    "        loss = criterion(pred, labels)\n",
    "        loss.backward()\n",
    "        optimizer.step()\n",
    "        losses += loss.detach().item() * len(texts)\n",
    "        acc_cnt += sum((pred.to('cpu') > 0) == (labels > 0)).item()\n",
    "        cnt += texts.size(1)\n",
    "\n",
    "    epoch_loss = losses / cnt\n",
    "    epoch_acc = acc_cnt / cnt\n",
    "    test_loss, test_acc, test_macro_f1, test_weighted_f1 = predict_test()\n",
    "    print(f'Epoch {epoch:2}: Train loss: {epoch_loss:.4f}, acc: {epoch_acc:.4f}. '\n",
    "        f'Test loss: {test_loss:.4f}, acc: {test_acc:.4f}, '\n",
    "        f'macro_f1: {test_macro_f1:.4f}, weighted_f1: {test_weighted_f1:.4f}',\n",
    "        flush=True)\n",
    "\n",
    "    list_test_acc.append(test_acc)\n",
    "    if len(list_test_acc) > early_stop and max(list_test_acc[-early_stop:]) <= max(list_test_acc[:-early_stop]):\n",
    "        print(f'Early stopping: test accuracy does not increase after {early_stop} epochs')\n",
    "        break"
   ]
  },
  {
   "cell_type": "code",
   "execution_count": 13,
   "metadata": {},
   "outputs": [],
   "source": [
    "# save the word-embedding layer weights\n",
    "embedding_weights = bengali_clf.embed.state_dict()\n",
    "torch.save(embedding_weights, f'save/bengali_embedding_weights_.pt')"
   ]
  }
 ],
 "metadata": {
  "kernelspec": {
   "display_name": "Python 3",
   "language": "python",
   "name": "python3"
  },
  "language_info": {
   "codemirror_mode": {
    "name": "ipython",
    "version": 3
   },
   "file_extension": ".py",
   "mimetype": "text/x-python",
   "name": "python",
   "nbconvert_exporter": "python",
   "pygments_lexer": "ipython3",
   "version": "3.8.3"
  }
 },
 "nbformat": 4,
 "nbformat_minor": 4
}
