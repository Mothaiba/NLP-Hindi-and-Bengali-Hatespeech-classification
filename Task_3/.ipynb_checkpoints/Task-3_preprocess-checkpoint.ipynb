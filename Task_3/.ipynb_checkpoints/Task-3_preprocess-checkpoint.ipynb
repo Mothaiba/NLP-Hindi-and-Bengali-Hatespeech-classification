{
 "cells": [
  {
   "cell_type": "markdown",
   "metadata": {},
   "source": [
    "# Pre-process Bengali hate-speech\n",
    "This notebook does all the pre-processing on the Bengali hate-speech data, including:\n",
    "- Removing user-tagging,\n",
    "- Removing stopwords,\n",
    "- Removing punctuations,\n",
    "- Removing urls from text,\n",
    "- Forming phrases,\n",
    "\n",
    "### Input:\n",
    "    Sample train and test data (with similar size and distribution as in Hindi dataset)\n",
    "### Output:\n",
    "    csv-files containing the ready-to-train data"
   ]
  },
  {
   "cell_type": "markdown",
   "metadata": {},
   "source": [
    "# Import libraries"
   ]
  },
  {
   "cell_type": "code",
   "execution_count": 1,
   "metadata": {},
   "outputs": [],
   "source": [
    "# Imports\n",
    "import re\n",
    "import string\n",
    "import json\n",
    "from datetime import datetime\n",
    "from collections import defaultdict, Counter\n",
    "\n",
    "import numpy as np\n",
    "import pandas as pd\n",
    "import matplotlib.pyplot as plt\n",
    "from tqdm import tqdm\n",
    "\n",
    "from sklearn.model_selection import train_test_split\n",
    "from sklearn.metrics import f1_score\n",
    "\n",
    "device = 'cpu'\n",
    "\n",
    "import random\n",
    "\n",
    "random.seed(26)\n",
    "np.random.seed(62)"
   ]
  },
  {
   "cell_type": "markdown",
   "metadata": {},
   "source": [
    "## Load data"
   ]
  },
  {
   "cell_type": "code",
   "execution_count": 2,
   "metadata": {},
   "outputs": [],
   "source": [
    "bengali_train_df = pd.read_csv('../data/bengali_hatespeech_sample_train.csv')\n",
    "bengali_test_df = pd.read_csv('../data/bengali_hatespeech_sample_test.csv')"
   ]
  },
  {
   "cell_type": "code",
   "execution_count": 3,
   "metadata": {},
   "outputs": [],
   "source": [
    "train_sentences = bengali_train_df['sentence']\n",
    "test_sentences = bengali_test_df['sentence']"
   ]
  },
  {
   "cell_type": "markdown",
   "metadata": {},
   "source": [
    "## Clean texts"
   ]
  },
  {
   "cell_type": "code",
   "execution_count": 4,
   "metadata": {},
   "outputs": [],
   "source": [
    "# remove user taggings\n",
    "user_tag_pattern = re.compile(r'\\@\\w*')\n",
    "def remove_tagging(sentence):\n",
    "    return re.sub(user_tag_pattern, ' ', sentence)\n",
    "\n",
    "# remove punctuations and urls\n",
    "http_re = re.compile('http://[^ ]*')\n",
    "https_re = re.compile('https://[^ ]*')\n",
    "punctuation = string.punctuation[:2] + string.punctuation[3:]\n",
    "translator = str.maketrans(punctuation, ' '*len(punctuation))\n",
    "def remove_punc_and_urls(s):\n",
    "    s = re.sub(http_re, ' ', s)\n",
    "    s = re.sub(https_re, ' ', s)\n",
    "    s = s.translate(translator)\n",
    "    return s\n",
    "\n",
    "# substitute numbers\n",
    "#   when there is a number in the string:\n",
    "#   if that number is 0 or 1 or 2, then there is no change.\n",
    "#   else, that number is substituted by a word describing how many digits it has.\n",
    "def substitute_number(x):\n",
    "    x = x.group(0)\n",
    "    if x in {'0', '1', '2'}:\n",
    "        return x\n",
    "    return '{}_digits_number'.format(len(x))\n",
    "\n",
    "# stopwords BENGALI (source: https://www.ranks.nl/stopwords/bengali)\n",
    "stopwords = ['অবশ্য', 'অনেক', 'অনেকে', 'অনেকেই', 'অন্তত', 'অথবা', 'অথচ', 'অর্থাত', 'অন্য', 'আজ', 'আছে', 'আপনার', \n",
    "             'আপনি', 'আবার', 'আমরা', 'আমাকে', 'আমাদের', 'আমার', 'আমি', 'আরও', 'আর', 'আগে', 'আগেই', 'আই', \n",
    "             'অতএব', 'আগামী', 'অবধি', 'অনুযায়ী', 'আদ্যভাগে', 'এই', 'একই', 'একে', 'একটি', 'এখন', 'এখনও', 'এখানে', \n",
    "             'এখানেই', 'এটি', 'এটা', 'এটাই', 'এতটাই', 'এবং', 'একবার', 'এবার', 'এদের', 'এঁদের', 'এমন', 'এমনকী', 'এল', \n",
    "             'এর', 'এরা', 'এঁরা', 'এস', 'এত', 'এতে', 'এসে', 'একে', 'এ', 'ঐ', ' ই', 'ইহা', 'ইত্যাদি', 'উনি', 'উপর', \n",
    "             'উপরে', 'উচিত', 'ও', 'ওই', 'ওর', 'ওরা', 'ওঁর', 'ওঁরা', 'ওকে', 'ওদের', 'ওঁদের', 'ওখানে', 'কত', 'কবে', \n",
    "             'করতে', 'কয়েক', 'কয়েকটি', 'করবে', 'করলেন', 'করার', 'কারও', 'করা', 'করি', 'করিয়ে', 'করার', 'করাই', \n",
    "             'করলে', 'করলেন', 'করিতে', 'করিয়া', 'করেছিলেন', 'করছে', 'করছেন', 'করেছেন', 'করেছে', 'করেন', 'করবেন', \n",
    "             'করায়', 'করে', 'করেই', 'কাছ', 'কাছে', 'কাজে', 'কারণ', 'কিছু', 'কিছুই', 'কিন্তু', 'কিংবা', 'কি', 'কী', 'কেউ', \n",
    "             'কেউই', 'কাউকে', 'কেন', 'কে', 'কোনও', 'কোনো', 'কোন', 'কখনও', 'ক্ষেত্রে', 'খুব\tগুলি', 'গিয়ে', 'গিয়েছে', \n",
    "             'গেছে', 'গেল', 'গেলে', 'গোটা', 'চলে', 'ছাড়া', 'ছাড়াও', 'ছিলেন', 'ছিল', 'জন্য', 'জানা', 'ঠিক', 'তিনি', \n",
    "             'তিনঐ', 'তিনিও', 'তখন', 'তবে', 'তবু', 'তাঁদের', 'তাঁাহারা', 'তাঁরা', 'তাঁর', 'তাঁকে', 'তাই', 'তেমন', 'তাকে', \n",
    "             'তাহা', 'তাহাতে', 'তাহার', 'তাদের', 'তারপর', 'তারা', 'তারৈ', 'তার', 'তাহলে', 'তিনি', 'তা', 'তাও', 'তাতে', \n",
    "             'তো', 'তত', 'তুমি', 'তোমার', 'তথা', 'থাকে', 'থাকা', 'থাকায়', 'থেকে', 'থেকেও', 'থাকবে', 'থাকেন', 'থাকবেন', \n",
    "             'থেকেই', 'দিকে', 'দিতে', 'দিয়ে', 'দিয়েছে', 'দিয়েছেন', 'দিলেন', 'দু', 'দুটি', 'দুটো', 'দেয়', 'দেওয়া', 'দেওয়ার', \n",
    "             'দেখা', 'দেখে', 'দেখতে', 'দ্বারা', 'ধরে', 'ধরা', 'নয়', 'নানা', 'না', 'নাকি', 'নাগাদ', 'নিতে', 'নিজে', 'নিজেই', \n",
    "             'নিজের', 'নিজেদের', 'নিয়ে', 'নেওয়া', 'নেওয়ার', 'নেই', 'নাই', 'পক্ষে', 'পর্যন্ত', 'পাওয়া', 'পারেন', 'পারি', 'পারে', \n",
    "             'পরে', 'পরেই', 'পরেও', 'পর', 'পেয়ে', 'প্রতি', 'প্রভৃতি', 'প্রায়', 'ফের', 'ফলে', 'ফিরে', 'ব্যবহার', 'বলতে', \n",
    "             'বললেন', 'বলেছেন', 'বলল', 'বলা', 'বলেন', 'বলে', 'বহু', 'বসে', 'বার', 'বা', 'বিনা', 'বরং', 'বদলে', 'বাদে', \n",
    "             'বার', 'বিশেষ', 'বিভিন্ন\tবিষয়টি', 'ব্যবহার', 'ব্যাপারে', 'ভাবে', 'ভাবেই', 'মধ্যে', 'মধ্যেই', 'মধ্যেও', 'মধ্যভাগে', \n",
    "             'মাধ্যমে', 'মাত্র', 'মতো', 'মতোই', 'মোটেই', 'যখন', 'যদি', 'যদিও', 'যাবে', 'যায়', 'যাকে', 'যাওয়া', 'যাওয়ার', \n",
    "             'যত', 'যতটা', 'যা', 'যার', 'যারা', 'যাঁর', 'যাঁরা', 'যাদের', 'যান', 'যাচ্ছে', 'যেতে', 'যাতে', 'যেন', 'যেমন', \n",
    "             'যেখানে', 'যিনি', 'যে', 'রেখে', 'রাখা', 'রয়েছে', 'রকম', 'শুধু', 'সঙ্গে', 'সঙ্গেও', 'সমস্ত', 'সব', 'সবার', 'সহ', \n",
    "             'সুতরাং', 'সহিত', 'সেই', 'সেটা', 'সেটি', 'সেটাই', 'সেটাও', 'সম্প্রতি', 'সেখান', 'সেখানে', 'সে', 'স্পষ্ট', 'স্বয়ং', \n",
    "             'হইতে', 'হইবে', 'হৈলে', 'হইয়া', 'হচ্ছে', 'হত', 'হতে', 'হতেই', 'হবে', 'হবেন', 'হয়েছিল', 'হয়েছে', 'হয়েছেন', 'হয়ে', \n",
    "             'হয়নি', 'হয়', 'হয়েই', 'হয়তো', 'হল', 'হলে', 'হলেই', 'হলেও', 'হলো', 'হিসাবে', 'হওয়া', 'হওয়ার', 'হওয়ায়', 'হন', \n",
    "             'হোক', 'জন', 'জনকে', 'জনের', 'জানতে', 'জানায়', 'জানিয়ে', 'জানানো', 'জানিয়েছে', 'জন্য', 'জন্যওজে', 'জে', \n",
    "             'বেশ', 'দেন', 'তুলে', 'ছিলেন', 'চান', 'চায়', 'চেয়ে', 'মোট', 'যথেষ্ট', 'টি']\n",
    "\n"
   ]
  },
  {
   "cell_type": "code",
   "execution_count": 5,
   "metadata": {},
   "outputs": [],
   "source": [
    "def clean_texts(sentences):\n",
    "    # tags\n",
    "    sentences = [remove_tagging(sentence) for sentence in sentences]\n",
    "    \n",
    "    # lower case\n",
    "    sentences = [sentence.lower() for sentence in sentences]\n",
    "    \n",
    "    # remove punctuations and urls \n",
    "    sentences = [remove_punc_and_urls(sentence) for sentence in sentences]\n",
    "    \n",
    "    # substitute numbers\n",
    "    sentences = [re.sub('\\\\b[0-9]+\\\\b', substitute_number, sentence) for sentence in sentences]\n",
    "    \n",
    "    # remove stopwords\n",
    "    sentences = [[word for word in sentence.split() if word not in stopwords] for sentence in sentences]\n",
    "    \n",
    "    return sentences"
   ]
  },
  {
   "cell_type": "code",
   "execution_count": 6,
   "metadata": {},
   "outputs": [],
   "source": [
    "# perform cleaning\n",
    "\n",
    "train_sentences = clean_texts(train_sentences)\n",
    "train_texts = [' '.join(l) for l in train_sentences]\n",
    "bengali_train_df['sentence'] = train_texts\n",
    "\n",
    "test_sentences = clean_texts(test_sentences)\n",
    "test_texts = [' '.join(l) for l in test_sentences]\n",
    "bengali_test_df['sentence'] = test_texts"
   ]
  },
  {
   "cell_type": "code",
   "execution_count": 7,
   "metadata": {},
   "outputs": [],
   "source": [
    "# exclude empty sentences\n",
    "bengali_train_df = bengali_train_df[bengali_train_df['sentence'].str.len() != 0].reset_index(drop=True)\n",
    "bengali_test_df = bengali_test_df[bengali_test_df['sentence'].str.len() != 0].reset_index(drop=True)"
   ]
  },
  {
   "cell_type": "code",
   "execution_count": 8,
   "metadata": {},
   "outputs": [
    {
     "data": {
      "text/plain": [
       "'ডেট লিখছি দেখেন ত মিল পান কিনা may 2_digits_number শুক্রবার রাজাকার আলোকচিত্র may 2_digits_number শুক্রবার টুকিটাকি ভাবনা june 2_digits_number শুক্রবার সমন্বিত ভর্তি পরীক্ষা june 2_digits_number শুক্রবার ক্ষমতা অধিকার july 2_digits_number শুক্রবার ওয়ার্ল্ড কাপ july 2_digits_number শুক্রবার গণিত অলিম্পিয়াড august 2_digits_number শুক্রবার মৃত্যুর উপত্যকা গত মে মাস জাফর ইকবার স্যার লেখা প্রকাশের তারিখ।কি অদ্ভত মিল মিলের কারন লেখেন একটা পত্রিকায়।শুক্রবার সংখ্যা মাসে দুই বার।তিনি মত মন চাইল সাথে সাথে পোষ্ট করলাম ফেসবুকে।এটাও জানার বিষয় ফেবু আইডি নাই।😅😅একটা পেজ ভেরিফায়েড ডিপার্টমেন্ট বড় ভাইয়ে রা চালায়। বাংলাদেশ international math olympiad সোনা জিতল 2_digits_number july ।যেই লোকটা ম্যাথ অলিম্পিয়াড শুরু করল বাংলাদেশে প্রতিক্রিয়া আসল ০৬ দিন কারন লেখাটা লিখছিলেন বাট পত্রিকায় টাইমলি পাব্লিশ ০৬ দিন লেগে যায়।এদিকে সবাই ইসটেটাস ভরে ফেলছিলাম।মনে 😂😂 মৃত্যুর উপত্যকা লেখা টা লিখেছিলেম ০১ আগস্ট ভেরিফায়েড পেজ নিচে ডেট পাব্লিশ ডেট ০৩ আগস্ট ১২ঃ০০ পত্রিকাটির অনলাইন সংস্করন বের হয়ার সাথে সাথে গায়েবি জানাজা পড়লেন পোষ্ট দেখলেই খালি পেটের ভিতরে মোচর মেরে বমি মনে উদ্দেশ্যে বলছি্\\u200c চুলডা ছিড়া ফালাইছ 🤔🤔'"
      ]
     },
     "execution_count": 8,
     "metadata": {},
     "output_type": "execute_result"
    }
   ],
   "source": [
    "bengali_train_df['sentence'][2057]"
   ]
  },
  {
   "cell_type": "markdown",
   "metadata": {},
   "source": [
    "## Form phrases"
   ]
  },
  {
   "cell_type": "code",
   "execution_count": 9,
   "metadata": {},
   "outputs": [
    {
     "name": "stdout",
     "output_type": "stream",
     "text": [
      "some most-common 2-grams:\n",
      "[(('কুত্তার', 'বাচ্চা'), 69), (('লুচ্চা', 'লুচ্চা'), 55), (('খানকির', 'পোলা'), 38), (('ফাঁসি', 'চাই'), 29), (('তুই', 'একটা'), 29)]\n"
     ]
    },
    {
     "data": {
      "image/png": "[encoded data removed]",
      "text/plain": [
       "<Figure size 1080x576 with 1 Axes>"
      ]
     },
     "metadata": {
      "needs_background": "light"
     },
     "output_type": "display_data"
    }
   ],
   "source": [
    "# count 2-grams\n",
    "two_grams = []\n",
    "for sentence in bengali_train_df['sentence']:\n",
    "    words = sentence.split()\n",
    "    two_grams.extend([(words[i], words[i+1]) for i in range(len(words)-1)])\n",
    "\n",
    "gram_counter = Counter(two_grams)\n",
    "print('some most-common 2-grams:')\n",
    "print(gram_counter.most_common(5))\n",
    "\n",
    "# plot 2-gram frequencies\n",
    "fig, ax = plt.subplots(figsize=(15, 8))\n",
    "ax.hist(gram_counter.values(), bins=gram_counter.most_common(1)[0][1])\n",
    "ax.set_title('2-grams counter histogram')\n",
    "ax.set_xlabel('2-grams counter')\n",
    "ax.set_ylabel('no. 2-grams')\n",
    "ax.set_yscale('log')"
   ]
  },
  {
   "cell_type": "code",
   "execution_count": 10,
   "metadata": {},
   "outputs": [],
   "source": [
    "# at first, we choose threshold = 10, i.e. 2-grams that appear at least 10 times are considered phrases\n",
    "# however, this doesn't increase accuracy. Maybe because the dataset is too small that statistic inferences are not sound.\n",
    "# So, we disable 2-grams by setting threshold to 100, i.e. no 2-grams are formed.\n",
    "two_grams_threshold_occurences = 100\n",
    "\n",
    "phrases = [grams for grams in gram_counter if gram_counter[grams] >= two_grams_threshold_occurences]"
   ]
  },
  {
   "cell_type": "markdown",
   "metadata": {},
   "source": [
    "## Vocab and Word <-> int transformation"
   ]
  },
  {
   "cell_type": "code",
   "execution_count": 11,
   "metadata": {},
   "outputs": [
    {
     "name": "stdout",
     "output_type": "stream",
     "text": [
      "vocab_size: 15983\n"
     ]
    }
   ],
   "source": [
    "def split_sentence(sentence):\n",
    "    words = sentence.split()\n",
    "    splitted = []\n",
    "    i = 0\n",
    "    while i < len(words):\n",
    "        if (i < len(words) - 1 and (words[i], words[i+1]) in phrases):\n",
    "            splitted.append('_'.join((words[i], words[i+1])))\n",
    "            i += 2\n",
    "        else:\n",
    "            splitted.append(words[i])\n",
    "            i += 1\n",
    "    \n",
    "    return splitted\n",
    "\n",
    "train_sentences = [split_sentence(sentence) for sentence in bengali_train_df['sentence']]\n",
    "test_sentences = [split_sentence(sentence) for sentence in bengali_test_df['sentence']]\n",
    "\n",
    "flattened_words = [word for sentence in train_sentences for word in sentence]\n",
    "V = list(set(flattened_words))\n",
    "vocab_size = len(V)\n",
    "print(f'vocab_size: {vocab_size}')\n",
    "\n",
    "word_to_int = {}\n",
    "int_to_word = {}\n",
    "for i, word in enumerate(V):\n",
    "    word_to_int[word] = i\n",
    "    int_to_word[i] = word\n",
    "\n",
    "# save dicts for transformation word <-> int\n",
    "with open('save/word_to_int_dict.json', 'w') as f:\n",
    "    json.dump(word_to_int, f)\n",
    "with open('save/int_to_word_dict.json', 'w') as f:\n",
    "    json.dump(int_to_word, f)    \n",
    "\n",
    "# save word-counter for sampling\n",
    "word_counter = Counter(flattened_words)\n",
    "with open('save/word_counter.json', 'w') as f:\n",
    "    json.dump(word_counter, f)"
   ]
  },
  {
   "cell_type": "code",
   "execution_count": 12,
   "metadata": {},
   "outputs": [],
   "source": [
    "train_sentences = [[word_to_int[word] for word in sentence] for sentence in train_sentences]\n",
    "test_sentences = [[word_to_int[word] for word in sentence if word in word_to_int] for sentence in test_sentences]"
   ]
  },
  {
   "cell_type": "code",
   "execution_count": 13,
   "metadata": {},
   "outputs": [],
   "source": [
    "# exclude empty sentences\n",
    "\n",
    "train_texts = [' '.join([str(v) for v in l]) for l in train_sentences]\n",
    "bengali_train_df['sentence'] = train_texts\n",
    "bengali_train_df = bengali_train_df[bengali_train_df['sentence'].str.len() != 0].reset_index(drop=True)\n",
    "\n",
    "test_texts = [' '.join([str(v) for v in l]) for l in test_sentences]\n",
    "bengali_test_df['sentence'] = test_texts\n",
    "bengali_test_df = bengali_test_df[bengali_test_df['sentence'].str.len() != 0].reset_index(drop=True)"
   ]
  },
  {
   "cell_type": "markdown",
   "metadata": {},
   "source": [
    "## Save output"
   ]
  },
  {
   "cell_type": "code",
   "execution_count": 14,
   "metadata": {},
   "outputs": [
    {
     "data": {
      "text/html": [
       "<div>\n",
       "<style scoped>\n",
       "    .dataframe tbody tr th:only-of-type {\n",
       "        vertical-align: middle;\n",
       "    }\n",
       "\n",
       "    .dataframe tbody tr th {\n",
       "        vertical-align: top;\n",
       "    }\n",
       "\n",
       "    .dataframe thead th {\n",
       "        text-align: right;\n",
       "    }\n",
       "</style>\n",
       "<table border=\"1\" class=\"dataframe\">\n",
       "  <thead>\n",
       "    <tr style=\"text-align: right;\">\n",
       "      <th></th>\n",
       "      <th>sentence</th>\n",
       "      <th>hate</th>\n",
       "      <th>category</th>\n",
       "    </tr>\n",
       "  </thead>\n",
       "  <tbody>\n",
       "    <tr>\n",
       "      <th>0</th>\n",
       "      <td>12431 11321 507 13590 993 8990 7341 7078</td>\n",
       "      <td>0</td>\n",
       "      <td>religion</td>\n",
       "    </tr>\n",
       "    <tr>\n",
       "      <th>1</th>\n",
       "      <td>9604 9604</td>\n",
       "      <td>0</td>\n",
       "      <td>Meme, TikTok and others</td>\n",
       "    </tr>\n",
       "    <tr>\n",
       "      <th>2</th>\n",
       "      <td>3670 1156 7483 2177 6216 10707 10178 12322 116...</td>\n",
       "      <td>0</td>\n",
       "      <td>crime</td>\n",
       "    </tr>\n",
       "    <tr>\n",
       "      <th>3</th>\n",
       "      <td>12223 9092 15432 9238</td>\n",
       "      <td>0</td>\n",
       "      <td>sports</td>\n",
       "    </tr>\n",
       "    <tr>\n",
       "      <th>4</th>\n",
       "      <td>14827 741 6632 4244 6006 227 14522 11471 227 1...</td>\n",
       "      <td>0</td>\n",
       "      <td>entertainment</td>\n",
       "    </tr>\n",
       "  </tbody>\n",
       "</table>\n",
       "</div>"
      ],
      "text/plain": [
       "                                            sentence  hate  \\\n",
       "0           12431 11321 507 13590 993 8990 7341 7078     0   \n",
       "1                                          9604 9604     0   \n",
       "2  3670 1156 7483 2177 6216 10707 10178 12322 116...     0   \n",
       "3                              12223 9092 15432 9238     0   \n",
       "4  14827 741 6632 4244 6006 227 14522 11471 227 1...     0   \n",
       "\n",
       "                  category  \n",
       "0                 religion  \n",
       "1  Meme, TikTok and others  \n",
       "2                    crime  \n",
       "3                   sports  \n",
       "4            entertainment  "
      ]
     },
     "metadata": {},
     "output_type": "display_data"
    },
    {
     "data": {
      "text/html": [
       "<div>\n",
       "<style scoped>\n",
       "    .dataframe tbody tr th:only-of-type {\n",
       "        vertical-align: middle;\n",
       "    }\n",
       "\n",
       "    .dataframe tbody tr th {\n",
       "        vertical-align: top;\n",
       "    }\n",
       "\n",
       "    .dataframe thead th {\n",
       "        text-align: right;\n",
       "    }\n",
       "</style>\n",
       "<table border=\"1\" class=\"dataframe\">\n",
       "  <thead>\n",
       "    <tr style=\"text-align: right;\">\n",
       "      <th></th>\n",
       "      <th>sentence</th>\n",
       "      <th>hate</th>\n",
       "      <th>category</th>\n",
       "    </tr>\n",
       "  </thead>\n",
       "  <tbody>\n",
       "    <tr>\n",
       "      <th>0</th>\n",
       "      <td>5664 10661 3793 6014</td>\n",
       "      <td>0</td>\n",
       "      <td>celebrity</td>\n",
       "    </tr>\n",
       "    <tr>\n",
       "      <th>1</th>\n",
       "      <td>7078 7570 3439 15021</td>\n",
       "      <td>0</td>\n",
       "      <td>sports</td>\n",
       "    </tr>\n",
       "    <tr>\n",
       "      <th>2</th>\n",
       "      <td>14440 12714</td>\n",
       "      <td>1</td>\n",
       "      <td>entertainment</td>\n",
       "    </tr>\n",
       "    <tr>\n",
       "      <th>3</th>\n",
       "      <td>26 13983 4331 7138</td>\n",
       "      <td>1</td>\n",
       "      <td>politics</td>\n",
       "    </tr>\n",
       "    <tr>\n",
       "      <th>4</th>\n",
       "      <td>11205 10335 8298 9150</td>\n",
       "      <td>1</td>\n",
       "      <td>entertainment</td>\n",
       "    </tr>\n",
       "  </tbody>\n",
       "</table>\n",
       "</div>"
      ],
      "text/plain": [
       "                sentence  hate       category\n",
       "0   5664 10661 3793 6014     0      celebrity\n",
       "1   7078 7570 3439 15021     0         sports\n",
       "2            14440 12714     1  entertainment\n",
       "3     26 13983 4331 7138     1       politics\n",
       "4  11205 10335 8298 9150     1  entertainment"
      ]
     },
     "metadata": {},
     "output_type": "display_data"
    }
   ],
   "source": [
    "display(bengali_train_df.head())\n",
    "display(bengali_test_df.head())"
   ]
  },
  {
   "cell_type": "code",
   "execution_count": 15,
   "metadata": {},
   "outputs": [],
   "source": [
    "bengali_train_df.to_csv('save/bengali_train_preprocessed.csv', index=False)\n",
    "bengali_test_df.to_csv('save/bengali_test_preprocessed.csv', index=False)"
   ]
  }
 ],
 "metadata": {
  "kernelspec": {
   "display_name": "Python 3",
   "language": "python",
   "name": "python3"
  },
  "language_info": {
   "codemirror_mode": {
    "name": "ipython",
    "version": 3
   },
   "file_extension": ".py",
   "mimetype": "text/x-python",
   "name": "python",
   "nbconvert_exporter": "python",
   "pygments_lexer": "ipython3",
   "version": "3.8.3"
  }
 },
 "nbformat": 4,
 "nbformat_minor": 4
}
