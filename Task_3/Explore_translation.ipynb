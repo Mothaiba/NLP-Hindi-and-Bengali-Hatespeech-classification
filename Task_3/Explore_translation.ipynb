{
 "cells": [
  {
   "cell_type": "code",
   "execution_count": 1,
   "metadata": {},
   "outputs": [
    {
     "data": {
      "text/plain": [
       "<torch._C.Generator at 0x7f4011bcaf90>"
      ]
     },
     "execution_count": 1,
     "metadata": {},
     "output_type": "execute_result"
    }
   ],
   "source": [
    "# Imports\n",
    "import re\n",
    "import string\n",
    "import json\n",
    "from datetime import datetime\n",
    "from collections import defaultdict, Counter\n",
    "\n",
    "import numpy as np\n",
    "import pandas as pd\n",
    "import matplotlib.pyplot as plt\n",
    "from tqdm import tqdm\n",
    "\n",
    "import torch\n",
    "import torch.nn as nn\n",
    "from torch.nn import Module\n",
    "import torch.optim as optim\n",
    "import torch.nn.functional as F\n",
    "from torch.utils.data import Dataset, DataLoader\n",
    "from torch.nn.utils.rnn import pad_sequence, pack_padded_sequence, pad_packed_sequence\n",
    "\n",
    "from sklearn.model_selection import train_test_split\n",
    "from sklearn.metrics import f1_score\n",
    "\n",
    "from nltk.corpus import stopwords\n",
    "\n",
    "device = 'cpu'\n",
    "\n",
    "import random\n",
    "\n",
    "random.seed(26)\n",
    "np.random.seed(62)\n",
    "torch.manual_seed(2021)"
   ]
  },
  {
   "cell_type": "code",
   "execution_count": 2,
   "metadata": {},
   "outputs": [],
   "source": [
    "embedding_size = 300"
   ]
  },
  {
   "cell_type": "code",
   "execution_count": 3,
   "metadata": {},
   "outputs": [
    {
     "name": "stdout",
     "output_type": "stream",
     "text": [
      "hindi vocab_size: 19379\n",
      "hindi total words: 84861\n"
     ]
    }
   ],
   "source": [
    "# load HINDI mapping {word -> id} and {id -> word}\n",
    "with open('hindi_hindi/save/hindi_word_to_int_dict.json', 'r') as f:\n",
    "    hindi_word_to_int = json.load(f)\n",
    "with open('hindi_hindi/save/hindi_int_to_word_dict.json', 'r') as f:\n",
    "    hindi_int_to_word = json.load(f)\n",
    "with open('hindi_hindi/save/hindi_word_counter.json') as f:\n",
    "    hindi_word_counter = json.load(f)\n",
    "\n",
    "# get vocab_size\n",
    "hindi_vocab_size = len(hindi_word_to_int)\n",
    "print(f'hindi vocab_size: {hindi_vocab_size}')\n",
    "\n",
    "# get total words\n",
    "hindi_total_words = np.sum(list(hindi_word_counter.values()))\n",
    "print(f'hindi total words: {hindi_total_words}')\n",
    "\n",
    "# load embedding\n",
    "hindi_embedding_path = 'hindi_hindi/save/hindi_embedding_weights_5_wsize_10_negfac.pt'\n",
    "hindi_embed_layer = nn.Embedding(hindi_vocab_size, embedding_size)\n",
    "hindi_embed_layer.load_state_dict(torch.load(hindi_embedding_path, map_location=torch.device(device)))\n",
    "hindi_embed_matrix = hindi_embed_layer.weight.data"
   ]
  },
  {
   "cell_type": "code",
   "execution_count": 4,
   "metadata": {},
   "outputs": [
    {
     "name": "stdout",
     "output_type": "stream",
     "text": [
      "bengali vocab_size: 15190\n",
      "bengali total words: 47848\n"
     ]
    }
   ],
   "source": [
    "# load BENGALI mapping {word -> id} and {id -> word}\n",
    "with open('hindi_bengali/save/bengali_word_to_int_dict.json') as f:\n",
    "    bengali_word_to_int = json.load(f)\n",
    "with open('hindi_bengali/save/bengali_int_to_word_dict.json') as f:\n",
    "    bengali_int_to_word = json.load(f)\n",
    "with open('hindi_bengali/save/bengali_word_counter.json') as f:\n",
    "    bengali_word_counter = json.load(f)\n",
    "\n",
    "# get vocab_size\n",
    "bengali_vocab_size = len(bengali_word_to_int)\n",
    "print(f'bengali vocab_size: {bengali_vocab_size}')\n",
    "\n",
    "# get total words\n",
    "bengali_total_words = np.sum(list(bengali_word_counter.values()))\n",
    "print(f'bengali total words: {bengali_total_words}')\n",
    "\n",
    "# load embedding\n",
    "bengali_embedding_path = 'hindi_bengali/save/bengali_embedding_weights.pt'\n",
    "bengali_embed_layer = nn.Embedding(bengali_vocab_size, embedding_size)\n",
    "bengali_embed_layer.load_state_dict(torch.load(bengali_embedding_path, map_location=torch.device(device)))\n",
    "bengali_embed_matrix = bengali_embed_layer.weight.data"
   ]
  },
  {
   "cell_type": "code",
   "execution_count": 5,
   "metadata": {},
   "outputs": [],
   "source": [
    "# make all embeddings 0-mean and unit variance\n",
    "def standardize(v):\n",
    "    return v.sub_(v.mean(dim=1)[:, None]).div_((v.var(dim=1)**0.5)[:, None])\n",
    "\n",
    "hindi_embed_matrix = standardize(hindi_embed_matrix)\n",
    "bengali_embed_matrix = standardize(bengali_embed_matrix)"
   ]
  },
  {
   "cell_type": "code",
   "execution_count": 6,
   "metadata": {},
   "outputs": [],
   "source": [
    "examples = [ #format: (hindi_word, bengali_word, english word)\n",
    "    ('गाड़ी', 'গাড়ি', 'car'),\n",
    "    ('विश्व', 'বিশ্ব', 'world'),\n",
    "    ('शब्द', 'শব্দ', 'word'),\n",
    "    ('पुरुष', 'পুরুষ', 'male'),\n",
    "    ('लोग', 'মানুষ', 'people'),\n",
    "    ('युद्ध', 'যুদ্ধ', 'war'),\n",
    "    ('फ़ोन', 'ফোন', 'phone'),\n",
    "    ('बड़े', 'বিশাল', 'big'),\n",
    "    ('सुंदर', 'সুন্দর', 'beautiful'),\n",
    "    ('तेज', 'দ্রুত', 'fast'),\n",
    "    #('', ''), # \n",
    "]"
   ]
  },
  {
   "cell_type": "code",
   "execution_count": 8,
   "metadata": {},
   "outputs": [
    {
     "name": "stdout",
     "output_type": "stream",
     "text": [
      "गाड़ी গাড়ি car\n",
      "गाड़ी occurrences: 0.009427%\n",
      "গাড়ি occurrences: 0.002090%\n",
      "5290/19379 7817/15190\n",
      "===================\n",
      "विश्व বিশ্ব world\n",
      "विश्व occurrences: 0.016498%\n",
      "বিশ্ব occurrences: 0.008360%\n",
      "19032/19379 5688/15190\n",
      "===================\n",
      "शब्द শব্দ word\n",
      "शब्द occurrences: 0.159084%\n",
      "শব্দ occurrences: 0.016720%\n",
      "13014/19379 2704/15190\n",
      "===================\n",
      "पुरुष পুরুষ male\n",
      "पुरुष occurrences: 0.001178%\n",
      "পুরুষ occurrences: 0.022989%\n",
      "17856/19379 13067/15190\n",
      "===================\n",
      "लोग মানুষ people\n",
      "लोग occurrences: 0.262783%\n",
      "মানুষ occurrences: 0.440980%\n",
      "13469/19379 13425/15190\n",
      "===================\n",
      "युद्ध যুদ্ধ war\n",
      "युद्ध occurrences: 0.004714%\n",
      "যুদ্ধ occurrences: 0.012540%\n",
      "12893/19379 1531/15190\n",
      "===================\n",
      "फ़ोन ফোন phone\n",
      "फ़ोन occurrences: 0.001178%\n",
      "ফোন occurrences: 0.016720%\n",
      "13929/19379 14651/15190\n",
      "===================\n",
      "बड़े বিশাল big\n",
      "बड़े occurrences: 0.050671%\n",
      "বিশাল occurrences: 0.006270%\n",
      "3183/19379 10061/15190\n",
      "===================\n",
      "सुंदर সুন্দর beautiful\n",
      "सुंदर occurrences: 0.004714%\n",
      "সুন্দর occurrences: 0.108677%\n",
      "13003/19379 5675/15190\n",
      "===================\n",
      "तेज দ্রুত fast\n",
      "तेज occurrences: 0.002357%\n",
      "দ্রুত occurrences: 0.029259%\n",
      "8391/19379 14739/15190\n",
      "===================\n"
     ]
    }
   ],
   "source": [
    "# find similarity ranking of equivalent word pairs in Hindi and Bengali\n",
    "\n",
    "for hindi_word, bengali_word, english_word in examples:\n",
    "    if hindi_word in hindi_word_to_int and bengali_word in bengali_word_to_int:\n",
    "        print(hindi_word, bengali_word, english_word)\n",
    "        \n",
    "        print(f'{hindi_word} occurrences: {hindi_word_counter[hindi_word]/hindi_total_words:%}')\n",
    "        print(f'{bengali_word} occurrences: {bengali_word_counter[bengali_word]/bengali_total_words:%}')\n",
    "        \n",
    "        \n",
    "        hindi_id = hindi_word_to_int[hindi_word]\n",
    "        bengali_id = bengali_word_to_int[bengali_word]\n",
    "        \n",
    "        hin_ranking = torch.argsort(hindi_embed_matrix@bengali_embed_matrix[bengali_id], descending=True)\n",
    "        ben_ranking = torch.argsort(bengali_embed_matrix@hindi_embed_matrix[hindi_id], descending=True)\n",
    "        \n",
    "        print(f'{hin_ranking[hindi_id]}/{len(hindi_embed_matrix)} {ben_ranking[bengali_id]}/{len(bengali_embed_matrix)}')\n",
    "        print('===================')"
   ]
  },
  {
   "cell_type": "code",
   "execution_count": null,
   "metadata": {},
   "outputs": [],
   "source": []
  },
  {
   "cell_type": "code",
   "execution_count": null,
   "metadata": {},
   "outputs": [],
   "source": []
  }
 ],
 "metadata": {
  "kernelspec": {
   "display_name": "Python 3",
   "language": "python",
   "name": "python3"
  },
  "language_info": {
   "codemirror_mode": {
    "name": "ipython",
    "version": 3
   },
   "file_extension": ".py",
   "mimetype": "text/x-python",
   "name": "python",
   "nbconvert_exporter": "python",
   "pygments_lexer": "ipython3",
   "version": "3.8.3"
  }
 },
 "nbformat": 4,
 "nbformat_minor": 4
}
