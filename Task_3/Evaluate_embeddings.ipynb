{
 "cells": [
  {
   "cell_type": "code",
   "execution_count": 44,
   "metadata": {},
   "outputs": [
    {
     "data": {
      "text/plain": [
       "<torch._C.Generator at 0x7f9649fca530>"
      ]
     },
     "execution_count": 44,
     "metadata": {},
     "output_type": "execute_result"
    }
   ],
   "source": [
    "# Imports\n",
    "import re\n",
    "import string\n",
    "import json\n",
    "from datetime import datetime\n",
    "from collections import defaultdict, Counter\n",
    "\n",
    "import numpy as np\n",
    "import pandas as pd\n",
    "import matplotlib.pyplot as plt\n",
    "from tqdm import tqdm\n",
    "\n",
    "import torch\n",
    "import torch.nn as nn\n",
    "from torch.nn import Module\n",
    "import torch.optim as optim\n",
    "import torch.nn.functional as F\n",
    "from torch.utils.data import Dataset, DataLoader\n",
    "from torch.nn.utils.rnn import pad_sequence, pack_padded_sequence, pad_packed_sequence\n",
    "\n",
    "from sklearn.model_selection import train_test_split\n",
    "from sklearn.metrics import f1_score\n",
    "\n",
    "device = 'cpu'\n",
    "\n",
    "import random\n",
    "\n",
    "random.seed(26)\n",
    "np.random.seed(62)\n",
    "torch.manual_seed(2021)"
   ]
  },
  {
   "cell_type": "code",
   "execution_count": 45,
   "metadata": {},
   "outputs": [],
   "source": [
    "embedding_size = 300\n",
    "embedding_path = f'save/embedding_weights_100_epoch_{embedding_size}_dim_5_wsize_10_negfac.pt'\n",
    "train_path = 'save/bengali_train_preprocessed.csv'"
   ]
  },
  {
   "cell_type": "code",
   "execution_count": 46,
   "metadata": {},
   "outputs": [
    {
     "name": "stdout",
     "output_type": "stream",
     "text": [
      "vocab size: 15983\n"
     ]
    }
   ],
   "source": [
    "# train data\n",
    "train_df = pd.read_csv(train_path)\n",
    "train_sentences = [[int(s) for s in text.split()] for text in train_df['sentence']]\n",
    "train_labels = train_df['hate'].to_numpy()\n",
    "\n",
    "# word <-> convertion\n",
    "with open('save/word_to_int_dict.json', 'r') as f:\n",
    "    word_to_int = json.load(f)\n",
    "with open('save/int_to_word_dict.json', 'r') as f:\n",
    "    int_to_word = json.load(f)\n",
    "    int_to_word = {int(k) : v for k, v in int_to_word.items()}\n",
    "\n",
    "# word-counter\n",
    "with open('save/word_counter.json', 'r') as f:\n",
    "    word_counter = Counter(json.load(f))\n",
    "    \n",
    "vocab_size = len(word_to_int)\n",
    "print('vocab size:', vocab_size)"
   ]
  },
  {
   "cell_type": "code",
   "execution_count": 21,
   "metadata": {},
   "outputs": [],
   "source": [
    "embed_layer = nn.Embedding(vocab_size, embedding_size)\n",
    "embed_layer.load_state_dict(torch.load(embedding_path, map_location=torch.device(device)))\n",
    "embed_matrix = embed_layer.weight.data"
   ]
  },
  {
   "cell_type": "code",
   "execution_count": 43,
   "metadata": {},
   "outputs": [
    {
     "name": "stdout",
     "output_type": "stream",
     "text": [
      "একটা...\n",
      " ব্যপারটাতে.\n",
      " সূলভ.\n",
      " লেখা।.\n",
      " সাজিয়ে.\n",
      " গাছের\n",
      "কথা...\n",
      " মনেরাখবি.\n",
      " পরিদর্শকের.\n",
      " be.\n",
      " জীবিত.\n",
      " চাল্লি\n",
      "তুই...\n",
      " ফিলিম.\n",
      " কোতাকানের.\n",
      " পোন্দানো.\n",
      " আলামত।.\n",
      " জমাট\n",
      "বাচ্চা...\n",
      " জিবণ.\n",
      " জানাইলেই.\n",
      " গেছেখানকি.\n",
      " অমানুষের.\n",
      " লক্ষন।\n",
      "তোর...\n",
      " টেংরি.\n",
      " বাইঞ্চুদ.\n",
      " বিগগাপন.\n",
      " খানিক.\n",
      " ধনের\n",
      "ভাই...\n",
      " খেললে.\n",
      " মর্জাদা.\n",
      " বুঝজ.\n",
      " জয়ের.\n",
      " দিতো\n",
      "মানুষ...\n",
      " ১০০কোটি.\n",
      " অতুষ্ট.\n",
      " হারাইলে.\n",
      " অসহায়।.\n",
      " পায়।ঠিক\n",
      "সাথে...\n",
      " সাহশের.\n",
      " প্রতারক.\n",
      " ভঙ্গিমায়.\n",
      " নেন।এবং.\n",
      " একথা\n",
      "ভালো...\n",
      " চালাতো.\n",
      " মেয়েদেরকেও.\n",
      " চ্যনেলটা.\n",
      " সবচেয়ে.\n",
      " চামচিকার\n",
      "।...\n",
      " ব্যবিচারী.\n",
      " রেজা.\n",
      " দে‌খি.\n",
      " চট্টগ্রামের.\n",
      " বিছনায়\n"
     ]
    }
   ],
   "source": [
    "for word, cnt in word_counter.most_common(10):\n",
    "    iword = word_to_int[word]\n",
    "    word_embed = embed_matrix[iword].unsqueeze(1)\n",
    "    dot_prod = (embed_matrix@word_embed).squeeze(1)\n",
    "    dot_prod[iword] = float('-Inf')\n",
    "    _, most_similar_iwords = torch.topk(dot_prod, 5)\n",
    "    most_similar_words = [int_to_word[iw.item()] for iw in most_similar_iwords]\n",
    "    print('{}...\\n {}'.format(word, '.\\n '.join(most_similar_words)))"
   ]
  },
  {
   "cell_type": "code",
   "execution_count": 38,
   "metadata": {},
   "outputs": [
    {
     "data": {
      "text/plain": [
       "torch.return_types.topk(\n",
       "values=tensor([22.4407, 21.9294, 21.5347, 21.4544, 21.0807]),\n",
       "indices=tensor([ 9767,  9416, 14145,  2751, 10973]))"
      ]
     },
     "execution_count": 38,
     "metadata": {},
     "output_type": "execute_result"
    }
   ],
   "source": [
    "torch.topk(dot_prod, 5)"
   ]
  },
  {
   "cell_type": "code",
   "execution_count": 49,
   "metadata": {},
   "outputs": [
    {
     "ename": "KeyError",
     "evalue": "'রাণী'",
     "output_type": "error",
     "traceback": [
      "\u001b[0;31m---------------------------------------------------------------------------\u001b[0m",
      "\u001b[0;31mKeyError\u001b[0m                                  Traceback (most recent call last)",
      "\u001b[0;32m<ipython-input-49-de74f77c7f29>\u001b[0m in \u001b[0;36m<module>\u001b[0;34m\u001b[0m\n\u001b[1;32m      2\u001b[0m \u001b[0mword_to_int\u001b[0m\u001b[0;34m[\u001b[0m\u001b[0;34m'মানুষ'\u001b[0m\u001b[0;34m]\u001b[0m\u001b[0;34m\u001b[0m\u001b[0;34m\u001b[0m\u001b[0m\n\u001b[1;32m      3\u001b[0m \u001b[0mword_to_int\u001b[0m\u001b[0;34m[\u001b[0m\u001b[0;34m'মহিলা'\u001b[0m\u001b[0;34m]\u001b[0m\u001b[0;34m\u001b[0m\u001b[0;34m\u001b[0m\u001b[0m\n\u001b[0;32m----> 4\u001b[0;31m \u001b[0mword_to_int\u001b[0m\u001b[0;34m[\u001b[0m\u001b[0;34m'রাণী'\u001b[0m\u001b[0;34m]\u001b[0m\u001b[0;34m\u001b[0m\u001b[0;34m\u001b[0m\u001b[0m\n\u001b[0m",
      "\u001b[0;31mKeyError\u001b[0m: 'রাণী'"
     ]
    }
   ],
   "source": [
    "word_to_int['রাজা']\n",
    "word_to_int['মানুষ']\n",
    "word_to_int['মহিলা']\n",
    "word_to_int['রাণী']"
   ]
  },
  {
   "cell_type": "code",
   "execution_count": null,
   "metadata": {},
   "outputs": [],
   "source": []
  }
 ],
 "metadata": {
  "kernelspec": {
   "display_name": "Python 3",
   "language": "python",
   "name": "python3"
  },
  "language_info": {
   "codemirror_mode": {
    "name": "ipython",
    "version": 3
   },
   "file_extension": ".py",
   "mimetype": "text/x-python",
   "name": "python",
   "nbconvert_exporter": "python",
   "pygments_lexer": "ipython3",
   "version": "3.8.3"
  }
 },
 "nbformat": 4,
 "nbformat_minor": 4
}
